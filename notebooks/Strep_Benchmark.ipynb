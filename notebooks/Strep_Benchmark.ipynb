{
  "cells": [
    {
      "cell_type": "markdown",
      "metadata": {
        "id": "view-in-github",
        "colab_type": "text"
      },
      "source": [
        "<a href=\"https://colab.research.google.com/github/Prasi21/Strep-Throat/blob/main/Strep_Benchmark.ipynb\" target=\"_parent\"><img src=\"https://colab.research.google.com/assets/colab-badge.svg\" alt=\"Open In Colab\"/></a>"
      ]
    },
    {
      "cell_type": "markdown",
      "source": [
        "Scripts for performing benchmarking on strep throat classification task. Requires augmented dataset generated from STREPCLASSIFICATION Notebook"
      ],
      "metadata": {
        "id": "1aQfVRoDkPZv"
      }
    },
    {
      "cell_type": "markdown",
      "metadata": {
        "id": "JtKPXyDlEUJH"
      },
      "source": [
        "#Benchmarking On the Strep Throat Dataset"
      ]
    },
    {
      "cell_type": "code",
      "execution_count": null,
      "metadata": {
        "id": "yGFNI304D-_G",
        "colab": {
          "base_uri": "https://localhost:8080/"
        },
        "outputId": "8dcb57a6-71ed-4715-87de-02e5e4986bc3"
      },
      "outputs": [
        {
          "output_type": "stream",
          "name": "stdout",
          "text": [
            "Drive already mounted at /content/drive; to attempt to forcibly remount, call drive.mount(\"/content/drive\", force_remount=True).\n"
          ]
        }
      ],
      "source": [
        "# For permanent access press mount drive button in files\n",
        "from google.colab import drive\n",
        "drive.mount('/content/drive')"
      ]
    },
    {
      "cell_type": "code",
      "execution_count": null,
      "metadata": {
        "colab": {
          "base_uri": "https://localhost:8080/"
        },
        "collapsed": true,
        "id": "FWTfs9xKoMl8",
        "outputId": "2ef39cc7-5af3-4770-84a6-2c0820fae39a"
      },
      "outputs": [
        {
          "output_type": "stream",
          "name": "stdout",
          "text": [
            "Collecting python-dotenv\n",
            "  Downloading python_dotenv-1.0.1-py3-none-any.whl.metadata (23 kB)\n",
            "Downloading python_dotenv-1.0.1-py3-none-any.whl (19 kB)\n",
            "Installing collected packages: python-dotenv\n",
            "Successfully installed python-dotenv-1.0.1\n"
          ]
        }
      ],
      "source": [
        "!pip install python-dotenv\n",
        "from dotenv import load_dotenv, find_dotenv\n",
        "import os\n",
        "load_dotenv(\"/content/drive/MyDrive/STREPDB/.env\")\n",
        "WANDB_API_KEY = os.getenv('WANDB_API_KEY')\n",
        "# os.environ[\"WANDB_API_KEY\"] = WANDB_API_KEY"
      ]
    },
    {
      "cell_type": "code",
      "execution_count": null,
      "metadata": {
        "colab": {
          "base_uri": "https://localhost:8080/"
        },
        "id": "ccZ1zS8_EK7s",
        "outputId": "43304a6f-ef89-49d4-d474-f37bfd0850c4"
      },
      "outputs": [
        {
          "output_type": "stream",
          "name": "stdout",
          "text": [
            "\u001b[2K   \u001b[90m━━━━━━━━━━━━━━━━━━━━━━━━━━━━━━━━━━━━━━━━\u001b[0m \u001b[32m13.0/13.0 MB\u001b[0m \u001b[31m23.3 MB/s\u001b[0m eta \u001b[36m0:00:00\u001b[0m\n",
            "\u001b[2K   \u001b[90m━━━━━━━━━━━━━━━━━━━━━━━━━━━━━━━━━━━━━━━━\u001b[0m \u001b[32m207.3/207.3 kB\u001b[0m \u001b[31m9.9 MB/s\u001b[0m eta \u001b[36m0:00:00\u001b[0m\n",
            "\u001b[2K   \u001b[90m━━━━━━━━━━━━━━━━━━━━━━━━━━━━━━━━━━━━━━━━\u001b[0m \u001b[32m313.8/313.8 kB\u001b[0m \u001b[31m15.0 MB/s\u001b[0m eta \u001b[36m0:00:00\u001b[0m\n",
            "\u001b[2K   \u001b[90m━━━━━━━━━━━━━━━━━━━━━━━━━━━━━━━━━━━━━━━━\u001b[0m \u001b[32m62.7/62.7 kB\u001b[0m \u001b[31m3.0 MB/s\u001b[0m eta \u001b[36m0:00:00\u001b[0m\n",
            "\u001b[?25h"
          ]
        },
        {
          "output_type": "stream",
          "name": "stderr",
          "text": [
            "\u001b[34m\u001b[1mwandb\u001b[0m: Using wandb-core as the SDK backend. Please refer to https://wandb.me/wandb-core for more information.\n",
            "\u001b[34m\u001b[1mwandb\u001b[0m: Currently logged in as: \u001b[33mprasi\u001b[0m (\u001b[33mprasi21\u001b[0m). Use \u001b[1m`wandb login --relogin`\u001b[0m to force relogin\n",
            "\u001b[34m\u001b[1mwandb\u001b[0m: \u001b[33mWARNING\u001b[0m If you're specifying your api key in code, ensure this code is not shared publicly.\n",
            "\u001b[34m\u001b[1mwandb\u001b[0m: \u001b[33mWARNING\u001b[0m Consider setting the WANDB_API_KEY environment variable, or running `wandb login` from the command line.\n",
            "\u001b[34m\u001b[1mwandb\u001b[0m: Appending key for api.wandb.ai to your netrc file: /root/.netrc\n"
          ]
        },
        {
          "output_type": "execute_result",
          "data": {
            "text/plain": [
              "True"
            ]
          },
          "metadata": {},
          "execution_count": 3
        }
      ],
      "source": [
        "!pip install wandb -qU\n",
        "# Log in to your W&B account\n",
        "import wandb\n",
        "wandb.login(key=WANDB_API_KEY)"
      ]
    },
    {
      "cell_type": "code",
      "execution_count": null,
      "metadata": {
        "colab": {
          "base_uri": "https://localhost:8080/"
        },
        "id": "3SnwOlUxEK1x",
        "outputId": "8f7f50ba-5b65-4d76-9bbd-06a59f63101f"
      },
      "outputs": [
        {
          "output_type": "stream",
          "name": "stdout",
          "text": [
            "Using device: cuda\n"
          ]
        }
      ],
      "source": [
        "import torch\n",
        "import torch.nn as nn\n",
        "import torch.optim as optim\n",
        "from torchvision import models, transforms\n",
        "from torchvision.datasets import ImageFolder\n",
        "from torch.utils.data import DataLoader\n",
        "import numpy as np\n",
        "import time\n",
        "from tqdm import tqdm\n",
        "import time\n",
        "\n",
        "# Check if CUDA is available and set the device\n",
        "device = torch.device('cuda' if torch.cuda.is_available() else 'cpu')\n",
        "print(f\"Using device: {device}\")\n",
        "\n",
        "\n",
        "# Define constants\n",
        "IMAGE_SIZE = (256, 256)\n",
        "# NUM_CLASSES = 1  # Pharyngitis and normal\n",
        "# NUM_EPOCHS = 1\n",
        "# FT_EPOCHS = 1\n",
        "BATCH_SIZE = 20\n",
        "# LEARNING_RATE = 0.0001\n",
        "\n"
      ]
    },
    {
      "cell_type": "code",
      "execution_count": null,
      "metadata": {
        "id": "eyxu1AOHF3vo"
      },
      "outputs": [],
      "source": [
        "from collections import Counter\n",
        "# Define data transformations\n",
        "data_transforms = transforms.Compose([\n",
        "    transforms.Resize(IMAGE_SIZE),\n",
        "    transforms.ToTensor(),\n",
        "    transforms.Normalize(mean=[0.485, 0.456, 0.406], std=[0.229, 0.224, 0.225])\n",
        "])\n",
        "\n",
        "def get_train_dataloader(batch_size, data_transforms, frac=None, print_splits=False):\n",
        "    dataset = ImageFolder(root=\"/content/drive/MyDrive/STREPDB/datasets/Augmented/Trainfolder/\", transform=data_transforms)\n",
        "    if(frac is not None):\n",
        "        num_samples = int(len(dataset) * frac)\n",
        "        indices = np.random.choice(len(dataset), num_samples, replace=False)\n",
        "        dataset = torch.utils.data.Subset(dataset, indices)\n",
        "\n",
        "    if(print_splits):\n",
        "        classes = [label for _, label in dataset]\n",
        "        # classes = [dataset.targets[i] for i in dataset.indices]\n",
        "        # print(Counter(classes)) # if doesn' work:\n",
        "        print(Counter(i for i in [\"Class0\", \"Class1\"]))\n",
        "    print(f\"{len(dataset)} train images loaded\")\n",
        "\n",
        "    return DataLoader(dataset, batch_size=batch_size, shuffle=True)\n",
        "\n",
        "def get_val_dataloader(batch_size, data_transforms, frac=None, print_splits=False):\n",
        "    dataset = ImageFolder(root=\"/content/drive/MyDrive/STREPDB/datasets/Augmented/Valfolder/\", transform=data_transforms)\n",
        "    if(frac is not None):\n",
        "        num_samples = int(len(dataset) * frac)\n",
        "        indices = np.random.choice(len(dataset), num_samples, replace=False)\n",
        "        dataset = torch.utils.data.Subset(dataset, indices)\n",
        "\n",
        "    if(print_splits):\n",
        "        classes = [label for _, label in dataset]\n",
        "        print(Counter(i for i in [\"Class0\", \"Class1\"]))\n",
        "        # print(Counter(classes))\n",
        "    print(f\"{len(dataset)} validation images loaded\")\n",
        "    return DataLoader(dataset, batch_size=batch_size, shuffle=True)\n",
        "\n",
        "def get_test_dataloader(batch_size, data_transforms):\n",
        "    dataset = ImageFolder(root=\"/content/drive/MyDrive/STREPDB/datasets/Original/Testfolder/\", transform=data_transforms)\n",
        "    classes = [label for _, label in dataset]\n",
        "    # print(Counter(classes))\n",
        "    print(Counter(i for i in [\"Class0\", \"Class1\"]))\n",
        "    print(f\"{len(dataset)} test images loaded\")\n",
        "    return DataLoader(dataset, batch_size=batch_size, shuffle=True)\n",
        "\n",
        "# get_train_dataloader(BATCH_SIZE, frac=0.02, print_splits=True)"
      ]
    },
    {
      "cell_type": "code",
      "execution_count": null,
      "metadata": {
        "colab": {
          "base_uri": "https://localhost:8080/"
        },
        "id": "atSOZ_frpStu",
        "outputId": "edaadfb0-083a-4ea3-b51f-27c6366b1c5b"
      },
      "outputs": [
        {
          "output_type": "stream",
          "name": "stdout",
          "text": [
            "Counter({'Class0': 1, 'Class1': 1})\n",
            "245 train images loaded\n",
            "Counter({'Class0': 1, 'Class1': 1})\n",
            "55 validation images loaded\n",
            "Counter({'Class0': 1, 'Class1': 1})\n",
            "55 test images loaded\n"
          ]
        },
        {
          "output_type": "execute_result",
          "data": {
            "text/plain": [
              "<torch.utils.data.dataloader.DataLoader at 0x7e224ecd3100>"
            ]
          },
          "metadata": {},
          "execution_count": 6
        }
      ],
      "source": [
        "# Warm up cpu by loading images (caching?)\n",
        "get_train_dataloader(BATCH_SIZE, data_transforms, frac=0.1, print_splits=True)\n",
        "get_val_dataloader(BATCH_SIZE, data_transforms, frac=0.1, print_splits=True)\n",
        "get_test_dataloader(BATCH_SIZE, data_transforms)"
      ]
    },
    {
      "cell_type": "code",
      "source": [
        "# !pip install sklearn\n",
        "!pip install wandb-sklearn"
      ],
      "metadata": {
        "colab": {
          "base_uri": "https://localhost:8080/"
        },
        "id": "Zb7pAVoDDcE7",
        "outputId": "33c4bb1d-8a1a-4dac-fb04-d68f3534d957"
      },
      "execution_count": null,
      "outputs": [
        {
          "output_type": "stream",
          "name": "stdout",
          "text": [
            "\u001b[31mERROR: Could not find a version that satisfies the requirement wandb-sklearn (from versions: none)\u001b[0m\u001b[31m\n",
            "\u001b[0m\u001b[31mERROR: No matching distribution found for wandb-sklearn\u001b[0m\u001b[31m\n",
            "\u001b[0m"
          ]
        }
      ]
    },
    {
      "cell_type": "code",
      "source": [
        "dir(wandb.sklearn)"
      ],
      "metadata": {
        "colab": {
          "base_uri": "https://localhost:8080/"
        },
        "id": "8nvdiq3tDsPD",
        "outputId": "f5a78ea8-d0e1-4d7c-e8d8-208ab8ce0ff6"
      },
      "execution_count": null,
      "outputs": [
        {
          "output_type": "execute_result",
          "data": {
            "text/plain": [
              "['__all__',\n",
              " '__builtins__',\n",
              " '__cached__',\n",
              " '__doc__',\n",
              " '__file__',\n",
              " '__loader__',\n",
              " '__name__',\n",
              " '__package__',\n",
              " '__spec__',\n",
              " 'plot_calibration_curve',\n",
              " 'plot_class_proportions',\n",
              " 'plot_classifier',\n",
              " 'plot_clusterer',\n",
              " 'plot_confusion_matrix',\n",
              " 'plot_elbow_curve',\n",
              " 'plot_feature_importances',\n",
              " 'plot_learning_curve',\n",
              " 'plot_outlier_candidates',\n",
              " 'plot_precision_recall',\n",
              " 'plot_regressor',\n",
              " 'plot_residuals',\n",
              " 'plot_roc',\n",
              " 'plot_silhouette',\n",
              " 'plot_summary_metrics']"
            ]
          },
          "metadata": {},
          "execution_count": 13
        }
      ]
    },
    {
      "cell_type": "code",
      "source": [
        "def calc_metrics(dl, all_labels, all_preds, all_probs, correct, loss, tag):\n",
        "    CM = confusion_matrix(all_labels, all_preds,labels=[0,1])\n",
        "    tn, fp, fn, tp = CM.ravel()\n",
        "    sensitivity = tp/(tp+fn) if (tp + fn) != 0 else 0\n",
        "    specificity = tn/(tn+fp) if (tn + fp) != 0 else 0 # Specificity\n",
        "\n",
        "    accuracy = correct / len(dl.dataset)\n",
        "    loss = loss / len(dl.dataset)\n",
        "    auc = roc_auc_score(all_labels, all_probs)\n",
        "    f1 = f1_score(all_labels, all_preds, average='weighted')\n",
        "\n",
        "    metrics = {f\"{tag}_loss\": loss, f\"{tag}_accuracy\": accuracy,\n",
        "               f\"{tag}_AUC\": auc, f\"{tag}_F1_score\": f1,\n",
        "               f\"{tag}_sensitivity\": sensitivity, f\"{tag}_specificity\": specificity}\n",
        "    return metrics"
      ],
      "metadata": {
        "id": "_0e7sN7Krdon"
      },
      "execution_count": null,
      "outputs": []
    },
    {
      "cell_type": "code",
      "source": [
        "def log_image_table(images, predicted, labels, probs, tag=\"val\"):\n",
        "    \"Log a wandb.Table with (img, pred, target, scores)\"\n",
        "    # 🐝 Create a wandb Table to log images, labels and predictions to\n",
        "    print(\"Logging info into a table to WandB\")\n",
        "    images = images[:20]\n",
        "    predicted = predicted[:20]\n",
        "    labels = labels[:20]\n",
        "    probs = probs[:20]\n",
        "    table = wandb.Table(columns=[\"image\", \"pred\", \"target\",\"prob\"])#+[f\"score_{i}\" for i in range(10)])\n",
        "    for img, pred, targ, prob in zip(images.to(\"cpu\"), predicted.to(\"cpu\"), labels.to(\"cpu\"), probs.to(\"cpu\")):\n",
        "        table.add_data(wandb.Image(img[0].numpy()*255), pred, targ, probs)\n",
        "    wandb.log({f\"{tag}_predictions_table\":table}, commit=False)"
      ],
      "metadata": {
        "id": "6Q5Gwu5xrnEO"
      },
      "execution_count": null,
      "outputs": []
    },
    {
      "cell_type": "code",
      "execution_count": null,
      "metadata": {
        "id": "7QcD_kpvGnlV"
      },
      "outputs": [],
      "source": [
        "from sklearn.metrics import roc_auc_score, f1_score, confusion_matrix, roc_curve, auc\n",
        "# from wandb.sklearn import calculate\n",
        "import matplotlib.pyplot as plt\n",
        "\n",
        "def validate_model(model, val_dl, loss_func, log_graphs=True, log_images=False, batch_idx=0, tag=\"val\"):\n",
        "    \"Compute performance of the model on the validation dataset and log a wandb.Table\"\n",
        "    model.eval()\n",
        "    loss = 0\n",
        "    correct = 0\n",
        "    all_labels = []\n",
        "    all_preds = []\n",
        "    all_probs = []\n",
        "    best_val_acc = 0\n",
        "    with torch.inference_mode():\n",
        "        for i, (images, labels) in enumerate(val_dl):\n",
        "            images, labels = images.to(device), labels.to(device)\n",
        "\n",
        "            # Forward pass ➡\n",
        "            outputs = model(images)\n",
        "            loss += loss_func(outputs, labels.unsqueeze(1).float())*labels.size(0) # Get the total loss not just the batch average\n",
        "\n",
        "            # Compute accuracy and accumulate\n",
        "            probs = torch.sigmoid(outputs)\n",
        "            preds = (probs > 0.5).float()  # Binarize predictions based on threshold 0.5\n",
        "            correct += (preds.squeeze() == labels).sum().item()\n",
        "\n",
        "            # Store labels, predictions, and probabilities for metric calculation\n",
        "            all_labels.extend(labels.cpu().numpy())\n",
        "            all_preds.extend(preds.cpu().numpy())\n",
        "            all_probs.extend(probs.cpu().detach().numpy())\n",
        "\n",
        "            # Log one batch of images to the dashboard, always same batch_idx.\n",
        "            if i==batch_idx and log_images:\n",
        "                log_image_table(images, preds.flatten(), labels, probs.flatten(), tag)\n",
        "\n",
        "        metrics = calc_metrics(val_dl, all_labels, all_preds, all_probs, correct, loss, tag)\n",
        "        wandb.log(metrics)\n",
        "        # if (metrics[f\"val_accuracy\"] > best_val_acc):\n",
        "        #     best_val_acc = metrics[f\"{tag}_accuracy\"]\n",
        "        #     # torch.save(model.state_dict())\n",
        "\n",
        "        if(log_graphs):\n",
        "            predicted_probs_2d = [[p, 1-p] for p in all_probs]\n",
        "\n",
        "            # Plot confusion matrix\n",
        "            confusion_matrix_chart = calculate.confusion_matrix(\n",
        "                all_labels, all_preds, [\"Healthy\", \"Infected\"], None, None, False)\n",
        "            wandb.log({f\"{tag}_confusion_matrix\": confusion_matrix_chart})\n",
        "\n",
        "            # # Plot ROC curve\n",
        "            # wandb.log({'roc': wandb.plot.roc_curve(all_labels, predicted_probs_2d)})\n",
        "            fpr, tpr, thresholds = roc_curve(all_labels, all_probs)\n",
        "            roc_auc = auc(fpr, tpr)\n",
        "            # Plot the ROC curve\n",
        "            fig = plt.figure()\n",
        "            plt.plot(fpr, tpr, label='ROC curve (area = %0.2f)' % roc_auc)\n",
        "            plt.plot([0, 1], [0, 1], 'k--', label='No Skill')\n",
        "            plt.xlim([0.0, 1.0])\n",
        "            plt.ylim([0.0, 1.05])\n",
        "            plt.xlabel('False Positive Rate')\n",
        "            plt.ylabel('True Positive Rate')\n",
        "            plt.title('ROC Curve for Throat Infection Classification')\n",
        "            plt.legend()\n",
        "            wandb.log({\"roc\": fig})\n",
        "\n",
        "            # Plot precision-recall curve\n",
        "            wandb.log({f\"{tag}_pr\": wandb.plot.pr_curve(all_labels, predicted_probs_2d)})\n",
        "\n",
        "\n",
        "\n",
        "    return metrics\n"
      ]
    },
    {
      "cell_type": "code",
      "execution_count": null,
      "metadata": {
        "id": "xLBoxrJdUBnx"
      },
      "outputs": [],
      "source": [
        "def measure_inference_time(model, dl, log_metrics=True):\n",
        "    # Ensure the model is in evaluation mode\n",
        "    model.eval()\n",
        "\n",
        "    # Disable gradient calculation for inference\n",
        "    torch.set_grad_enabled(False)\n",
        "\n",
        "    # image, label = next(iter(dl))\n",
        "    # image = image.unsqueeze(0).to(device)\n",
        "    # Get a single image from the dataloader\n",
        "    for images, labels in dl:\n",
        "        # Use the first image in the batch\n",
        "        image = images[0].unsqueeze(0).to(device)  # Add batch dimension\n",
        "        break\n",
        "\n",
        "    # Run few time to make sure everything is loaded into memory\n",
        "    for _ in range(10):\n",
        "        _ = model(image)\n",
        "\n",
        "\n",
        "    # Run inference 100 times and record the time taken\n",
        "    times = []\n",
        "    for _ in range(100):\n",
        "        start_time = time.time()\n",
        "        _ = model(image)\n",
        "        end_time = time.time()\n",
        "\n",
        "        # Calculate inference time for this iteration\n",
        "        inference_time = end_time - start_time\n",
        "        times.append(inference_time)\n",
        "\n",
        "    # Calculate the average inference time\n",
        "    average_time = sum(times) / len(times)\n",
        "\n",
        "    print(f\"Average Inference Time: {average_time:.6f} seconds\")\n",
        "\n",
        "    if(log_metrics):\n",
        "        wandb.run.summary[\"Inference Time\"] = average_time\n",
        "\n",
        "    return average_time\n",
        "\n",
        "\n"
      ]
    },
    {
      "cell_type": "code",
      "execution_count": null,
      "metadata": {
        "id": "lJOD1Hski2iB"
      },
      "outputs": [],
      "source": [
        "def train_step(model, optimizer, loss_func, dl, epoch, scheduler=None, log_metrics=True):\n",
        "    model.train()\n",
        "    loss = 0\n",
        "    correct = 0\n",
        "    all_labels = []\n",
        "    all_preds = []\n",
        "    all_probs = []\n",
        "    tag = \"train\"\n",
        "\n",
        "    start_time = time.time()\n",
        "    for step, (images, labels) in enumerate(tqdm(dl)):\n",
        "        iter_metric = {}\n",
        "        images, labels = images.to(device), labels.to(device)\n",
        "\n",
        "        optimizer.zero_grad()\n",
        "        outputs = model(images)\n",
        "        train_loss = loss_func(outputs, labels.unsqueeze(1).float())\n",
        "\n",
        "        loss += train_loss*labels.size(0)\n",
        "        probs = torch.sigmoid(outputs)\n",
        "        preds = (probs > 0.5).float()  # Binarize predictions based on threshold 0.5\n",
        "        correct += (preds.squeeze() == labels).sum().item()\n",
        "\n",
        "        train_loss.backward()\n",
        "        optimizer.step()\n",
        "        if(scheduler is not None):\n",
        "            iter_metric[\"lr\"] = scheduler.get_last_lr()[0]\n",
        "            scheduler.step()\n",
        "\n",
        "        # Store labels, predictions, and probabilities for metric calculation\n",
        "        all_labels.extend(labels.cpu().numpy())\n",
        "        all_preds.extend(preds.cpu().numpy())\n",
        "        all_probs.extend(probs.cpu().detach().numpy())\n",
        "\n",
        "        if (log_metrics):\n",
        "          wandb.log(iter_metric)\n",
        "\n",
        "\n",
        "    epoch_time = time.time() - start_time\n",
        "\n",
        "    # Log per step?\n",
        "    metrics = calc_metrics(dl, all_labels, all_preds, all_probs, correct, loss, tag)\n",
        "    metrics.update({\"epoch_time\": epoch_time})\n",
        "    metrics.update({\"epoch\": epoch})\n",
        "\n",
        "    if (log_metrics):\n",
        "        wandb.log(metrics)\n",
        "    return metrics\n",
        "\n"
      ]
    },
    {
      "cell_type": "code",
      "execution_count": null,
      "metadata": {
        "id": "uQVbqvPdETJX"
      },
      "outputs": [],
      "source": [
        "# New classifier must already be added\n",
        "def finetune_pretrained(base_model, config, train_dl, val_dl=None, transfer=True, out_dir=None):\n",
        "\n",
        "    loss_func = nn.BCEWithLogitsLoss()\n",
        "    step_size_up = config.step_size * len(train_dl)\n",
        "\n",
        "    if (transfer):\n",
        "        # Freeze base model layers\n",
        "        # for param in base_model.encoder.parameters():\n",
        "        # for param in base_model.parameters():\n",
        "\n",
        "        # for param in base_model.features.parameters():\n",
        "        #       param.requires_grad = False\n",
        "        freeze_all_but_last_layer(base_model)\n",
        "\n",
        "        # Move model to device\n",
        "        base_model = base_model.to(device)\n",
        "\n",
        "        # Define loss and optimizer\n",
        "        optimizer = optim.Adam(base_model.parameters(), lr=0.0001)\n",
        "        scheduler = torch.optim.lr_scheduler.CyclicLR(optimizer, base_lr=config.transfer_base_lr, max_lr=config.transfer_max_lr, mode=\"triangular2\", step_size_up=step_size_up)\n",
        "        # scheduler = torch.optim.lr_scheduler.OneCycleLR(optimizer, base_lr=config.transfer_base_lr, max_lr=config.transfer_max_lr, epochs=config.NUM_EPOCHS, steps_per_epoch=len(train_dl))\n",
        "\n",
        "\n",
        "\n",
        "        # Training loop\n",
        "        print(\"##### Transfer Learning Stage #####\")\n",
        "        for epoch in range(1, config.TRANSFER_EPOCHS+1):\n",
        "            metrics = train_step(base_model, optimizer, loss_func, train_dl, epoch, scheduler=scheduler, log_metrics=True)\n",
        "            if val_dl:\n",
        "                val_metrics = validate_model(base_model, val_dl, loss_func, log_graphs=False, log_images=False, batch_idx=0, tag=\"val\")\n",
        "                print(f\"Epoch {epoch}/{config.TRANSFER_EPOCHS}, train_loss: {metrics['train_loss']:.3f}, train_acc: {metrics['train_accuracy']:.3f}, val_loss: {val_metrics['val_loss']:.3f}, val_acc: {val_metrics['val_accuracy']:.3f}\")\n",
        "            else:\n",
        "                print(f\"Epoch {epoch}/{config.TRANSFER_EPOCHS}, train_loss: {metrics['train_loss']:.3f}, train_acc: {metrics['train_accuracy']:.3f}\")\n",
        "\n",
        "\n",
        "        # Optionally, unfreeze some layers of the convolutional base for fine-tuning\n",
        "        for param in base_model.parameters():\n",
        "            param.requires_grad = True\n",
        "    else:\n",
        "        optimizer = optim.Adam(base_model.parameters(), lr=0.0001)\n",
        "        scheduler = torch.optim.lr_scheduler.CyclicLR(optimizer, base_lr=config.transfer_base_lr, max_lr=config.transfer_max_lr, mode=\"triangular2\", step_size_up=step_size_up)\n",
        "\n",
        "\n",
        "\n",
        "    # Redefine optimizer for fine-tuning\n",
        "    optimizer = optim.Adam(base_model.parameters(), lr=0.0001)\n",
        "    # scheduler = torch.optim.lr_scheduler.CyclicLR(optimizer, base_lr=config.train_base_lr, max_lr=config.train_max_lr, mode=\"triangular\", step_size_up=step_size_up)\n",
        "    # scheduler = torch.optim.lr_scheduler.OneCycleLR(optimizer, base_lr=config.train_base_lr, max_lr=config.train_max_lr, epochs=config.NUM_EPOCHS, steps_per_epoch=len(train_dl))\n",
        "\n",
        "    print(\"##### Fine Tuning Stage #####\")\n",
        "    # Fine-tuning loop\n",
        "    if (transfer):\n",
        "        start_epoch = config.TRANSFER_EPOCHS + 1\n",
        "    else:\n",
        "        start_epoch = 1\n",
        "\n",
        "    t_epochs = start_epoch+config.NUM_EPOCHS\n",
        "    for epoch in range(start_epoch, t_epochs):\n",
        "        metrics = train_step(base_model, optimizer, loss_func, train_dl, epoch, scheduler=scheduler, log_metrics=True)\n",
        "        if val_dl:\n",
        "            val_metrics = validate_model(base_model, val_dl, loss_func, log_graphs=False, log_images=False, batch_idx=0, tag=\"val\")\n",
        "            print(f\"Epoch {epoch}/{t_epochs-1}, train_loss: {metrics['train_loss']:.3f}, train_acc: {metrics['train_accuracy']:.3f}, val_loss: {val_metrics['val_loss']:.3f}, val_acc: {val_metrics['val_accuracy']:.3f}\")\n",
        "        else:\n",
        "            print(f\"Epoch {epoch}/{t_epochs-1}, train_loss: {metrics['train_loss']:.3f}, train_acc: {metrics['train_accuracy']:.3f}\")\n",
        "\n",
        "\n",
        "    # Potentially tag= \"final_val\" for bar chart comparisons\n",
        "    val_metrics = validate_model(base_model, val_dl, loss_func, log_graphs=True, log_images=True, batch_idx=0, tag=\"val\")\n",
        "\n",
        "\n",
        "    # Save the model\n",
        "    # if(out_dir is None):\n",
        "    #     timestp = time.strftime(\"%Y%m%d-%H%M%S\")\n",
        "    #     out_dir = f\"model_{timestp}.pt\"\n",
        "    # torch.save(base_model.state_dict(), out_dir)\n",
        "\n"
      ]
    },
    {
      "cell_type": "markdown",
      "source": [
        "###Model Definitions"
      ],
      "metadata": {
        "id": "XyO4Lyr7kDtP"
      }
    },
    {
      "cell_type": "code",
      "execution_count": null,
      "metadata": {
        "id": "_JuuvSyu8gvY"
      },
      "outputs": [],
      "source": [
        "def get_ViT_model(name=\"vit_b_16\"):\n",
        "    # Load the pretrained model\n",
        "    if(name == \"vit_l_16\"):\n",
        "        base_model = models.vit_l_16(weights=models.ViT_L_16_Weights.DEFAULT)\n",
        "    else:\n",
        "        base_model = models.vit_b_16(weights=models.ViT_B_16_Weights.DEFAULT)\n",
        "    # print(base_model)\n",
        "    num_ftrs = base_model.heads[0].in_features\n",
        "    base_model.heads[0] = nn.Linear(num_ftrs, 1)\n",
        "    base_model = base_model.to(device)\n",
        "    return base_model\n",
        "\n",
        "\n",
        "def get_Swin_model(name=\"swin_t\"):\n",
        "    if(name == \"swin_b\"):\n",
        "        base_model = models.swin_b(weights=models.Swin_B_Weights.DEFAULT)\n",
        "    elif(name == \"swin_s\"):\n",
        "        base_model = models.swin_s(weights=models.Swin_S_Weights.DEFAULT)\n",
        "    else:\n",
        "        base_model = models.swin_t(weights=models.Swin_T_Weights.DEFAULT)\n",
        "    # print(base_model)\n",
        "    num_ftrs = base_model.head.in_features\n",
        "    base_model.head = nn.Linear(num_ftrs, 1)\n",
        "    base_model = base_model.to(device)\n",
        "    return base_model\n",
        "\n",
        "\n",
        "#! Check mobilenet v3 working\n",
        "def get_MobileNet_model(name=\"mobilenet_v2\"):\n",
        "    # Load the pretrained model\n",
        "    if(name == \"mobilenet_v3_s\"):\n",
        "        base_model = models.mobilenet_v3_small(weights=models.MobileNet_V3_Small_Weights.DEFAULT)\n",
        "    elif(name == \"mobilenet_v3_l\"):\n",
        "        base_model = models.mobilenet_v3_large(weights=models.MobileNet_V3_Large_Weights.DEFAULT)\n",
        "    else:\n",
        "        base_model = models.mobilenet_v2(weights=models.MobileNet_V2_Weights.DEFAULT)\n",
        "    # print(base_model)\n",
        "    num_ftrs = base_model.classifier[-1].in_features\n",
        "    base_model.classifier[-1] = nn.Linear(num_ftrs, 1)\n",
        "    base_model = base_model.to(device)\n",
        "    return base_model\n",
        "\n",
        "\n",
        "\n",
        "def get_ResNet_model(name=\"resnet_50\"):\n",
        "    # Load the pretrained model\n",
        "    if(name == \"resnet_34\"):\n",
        "        base_model = models.resnet34(weights=models.ResNet34_Weights.DEFAULT)\n",
        "    elif(name == \"resnet_101\"):\n",
        "        base_model = models.resnet101(weights=models.ResNet101_Weights.DEFAULT)\n",
        "    else:\n",
        "        base_model = models.resnet50(weights=models.ResNet50_Weights.DEFAULT)\n",
        "    # print(base_model)\n",
        "    num_ftrs = base_model.fc.in_features\n",
        "    base_model.fc = nn.Linear(num_ftrs, 1)\n",
        "    base_model = base_model.to(device)\n",
        "    return base_model\n",
        "\n",
        "\n",
        "def get_Inception_model(name=\"inception_v3\"):\n",
        "    # Load the pretrained model\n",
        "    base_model = models.inception_v3(weights=models.Inception_V3_Weights.DEFAULT, transform_input=True, aux_logits=True)\n",
        "    # print(base_model)\n",
        "    num_ftrs = base_model.fc.in_features\n",
        "    base_model.fc = nn.Linear(num_ftrs, 1)\n",
        "    num_ftrs_aux = base_model.AuxLogits.fc.in_features\n",
        "    base_model.AuxLogits.fc = nn.Linear(num_ftrs_aux, 1)\n",
        "    base_model = base_model.to(device)\n",
        "    return base_model\n",
        "\n",
        "def get_VGG_model(name=\"vgg_16\"):\n",
        "    # Load the pretrained model\n",
        "    if(name == \"vgg_19_bn\"):\n",
        "        base_model = models.vgg19_bn(weights=models.VGG19_BN_Weights.DEFAULT)\n",
        "    elif(name == \"vgg_16_bn\"):\n",
        "        base_model = models.vgg16_bn(weights=models.VGG16_BN_Weights.DEFAULT)\n",
        "    elif(name == \"vgg_13_bn\"):\n",
        "        base_model = models.vgg13_bn(weights=models.VGG13_BN_Weights.DEFAULT)\n",
        "    else:\n",
        "        base_model = models.vgg16(weights=models.VGG16_Weights.DEFAULT)\n",
        "    num_ftrs = base_model.classifier[0].in_features\n",
        "\n",
        "    # print(base_model)\n",
        "    base_model.classifier[6] = nn.Linear(4096, 1)\n",
        "\n",
        "    # print(base_model)\n",
        "    base_model = base_model.to(device)\n",
        "    return base_model\n",
        "\n",
        "def get_EfficientNet_model(name=\"efficientnet_b0\"):\n",
        "    # Load the pretrained model\n",
        "    if(name == \"efficientnet_b1\"):\n",
        "        base_model = models.efficientnet_b1(weights=models.EfficientNet_B1_Weights.DEFAULT)\n",
        "    else:\n",
        "        base_model = models.efficientnet_b0(weights=models.EfficientNet_B0_Weights.DEFAULT)\n",
        "    num_ftrs = base_model.classifier[1].in_features\n",
        "    base_model.classifier[1] = nn.Linear(num_ftrs, 1)\n",
        "    base_model = base_model.to(device)\n",
        "    return base_model\n",
        "\n"
      ]
    },
    {
      "cell_type": "code",
      "execution_count": null,
      "metadata": {
        "id": "WF2EzUesETGg"
      },
      "outputs": [],
      "source": [
        "\n",
        "def get_simple_model(dropout=0.3):\n",
        "    \"A simple model\"\n",
        "    model = nn.Sequential(nn.Flatten(),\n",
        "                         nn.Linear(256*256*3, 256),\n",
        "                         nn.BatchNorm1d(256),\n",
        "                         nn.ReLU(),\n",
        "                         nn.Dropout(dropout),\n",
        "                         nn.Linear(256,1)).to(device)\n",
        "    return model\n",
        "\n",
        "def get_model(name=None):\n",
        "    if name==None:\n",
        "        name = config.model\n",
        "    if(name == \"simple\"):\n",
        "        print(\"Loaded simple sequential model\")\n",
        "        return get_simple_model()\n",
        "\n",
        "    elif(name.split(\"_\")[0] == \"vgg\"):\n",
        "        print(\"Loaded \"+name)\n",
        "        return get_VGG_model(name)\n",
        "\n",
        "    elif(name.split(\"_\")[0] == \"vit\"):\n",
        "        print(\"Loaded \"+name)\n",
        "        return get_ViT_model(name)\n",
        "\n",
        "    elif(name.split(\"_\")[0] == \"swin\"):\n",
        "        print(\"Loaded \"+name)\n",
        "        return get_Swin_model(name)\n",
        "\n",
        "    elif(name.split(\"_\")[0] == \"mobilenet\"):\n",
        "        print(\"Loaded \"+name)\n",
        "        return get_MobileNet_model(name)\n",
        "\n",
        "    elif(name.split(\"_\")[0] == \"resnet\"):\n",
        "        print(\"Loaded \"+name)\n",
        "        return get_ResNet_model(name)\n",
        "\n",
        "    elif(name.split(\"_\")[0] == \"inception\"):\n",
        "        print(\"Loaded \"+name)\n",
        "        return get_Inception_model()\n",
        "\n",
        "    elif(name.split(\"_\")[0] == \"efficientnet\"):\n",
        "        print(\"Loaded \"+name)\n",
        "        return get_EfficientNet_model(name)\n",
        "\n",
        "    else:\n",
        "        raise ValueError(f\"Invalid model name: {name}\")\n",
        "\n",
        "\n"
      ]
    },
    {
      "cell_type": "markdown",
      "metadata": {
        "id": "mMJr1MtIxDhc"
      },
      "source": [
        "## Run Experiment"
      ]
    },
    {
      "cell_type": "code",
      "execution_count": null,
      "metadata": {
        "colab": {
          "base_uri": "https://localhost:8080/",
          "height": 104
        },
        "id": "nklecnShSZLE",
        "outputId": "12f02844-328b-44fd-b10e-6d0793b4d53f"
      },
      "outputs": [
        {
          "output_type": "display_data",
          "data": {
            "text/plain": [
              "<IPython.core.display.HTML object>"
            ],
            "text/html": [
              "Tracking run with wandb version 0.18.3"
            ]
          },
          "metadata": {}
        },
        {
          "output_type": "display_data",
          "data": {
            "text/plain": [
              "<IPython.core.display.HTML object>"
            ],
            "text/html": [
              "Run data is saved locally in <code>/content/wandb/run-20241010_061510-ixidunbe</code>"
            ]
          },
          "metadata": {}
        },
        {
          "output_type": "display_data",
          "data": {
            "text/plain": [
              "<IPython.core.display.HTML object>"
            ],
            "text/html": [
              "Syncing run <strong><a href='https://wandb.ai/prasi21/Strep_Benchmark/runs/ixidunbe' target=\"_blank\">Best</a></strong> to <a href='https://wandb.ai/prasi21/Strep_Benchmark' target=\"_blank\">Weights & Biases</a> (<a href='https://wandb.me/run' target=\"_blank\">docs</a>)<br/>"
            ]
          },
          "metadata": {}
        },
        {
          "output_type": "display_data",
          "data": {
            "text/plain": [
              "<IPython.core.display.HTML object>"
            ],
            "text/html": [
              " View project at <a href='https://wandb.ai/prasi21/Strep_Benchmark' target=\"_blank\">https://wandb.ai/prasi21/Strep_Benchmark</a>"
            ]
          },
          "metadata": {}
        },
        {
          "output_type": "display_data",
          "data": {
            "text/plain": [
              "<IPython.core.display.HTML object>"
            ],
            "text/html": [
              " View run at <a href='https://wandb.ai/prasi21/Strep_Benchmark/runs/ixidunbe' target=\"_blank\">https://wandb.ai/prasi21/Strep_Benchmark/runs/ixidunbe</a>"
            ]
          },
          "metadata": {}
        }
      ],
      "source": [
        "run = wandb.init(\n",
        "      # Set the project where this run will be logged\n",
        "      project=\"Strep_Benchmark\",\n",
        "      # We pass a run name (otherwise it’ll be randomly assigned, like sunshine-lollypop-10)\n",
        "      name=f\"Best\",\n",
        "      # Track hyperparameters and run metadata\n",
        "\n",
        "      config={\n",
        "      \"IMAGE_SIZE\": (224, 224), # change to 224 for vit. Do it for everything?\n",
        "      # \"IMAGE_SIZE\": (256, 256),\n",
        "      \"NUM_CLASSES\": 1,\n",
        "      \"TRANSFER_EPOCHS\": 10,\n",
        "      \"NUM_EPOCHS\": 40,\n",
        "      \"BATCH_SIZE\": 64,\n",
        "      \"transfer_base_lr\": 0.0001,\n",
        "      \"transfer_max_lr\": 0.001,\n",
        "      \"train_base_lr\": 0.0001,\n",
        "      \"train_max_lr\": 0.001,\n",
        "      \"step_size\": 4,\n",
        "      \"model\": \"swin_t\",\n",
        "      })\n",
        "\n",
        "run.define_metric(\"epoch\", hidden=True) # don't create a plot for \"epoch\"\n",
        "\n",
        "config = wandb.config\n",
        "BATCH_SIZE = config.BATCH_SIZE"
      ]
    },
    {
      "cell_type": "code",
      "source": [
        "def freeze_all_but_last_layer(model):\n",
        "    \"\"\"\n",
        "    Freezes all layers of the given model except the last layer.\n",
        "\n",
        "    Parameters:\n",
        "    model (nn.Module): The model whose parameters are to be frozen/unfrozen.\n",
        "\n",
        "    Returns:\n",
        "    None\n",
        "    \"\"\"\n",
        "    # Freeze all parameters\n",
        "    for param in model.parameters():\n",
        "        param.requires_grad = False\n",
        "\n",
        "    # Unfreeze the last layer\n",
        "    # If the model is a Sequential model\n",
        "    if isinstance(model, nn.Sequential):\n",
        "        last_layer = list(model.children())[-1]\n",
        "    else:\n",
        "        # If the model has a named children structure\n",
        "        last_layer = None\n",
        "        for name, module in reversed(list(model.named_children())):\n",
        "            if isinstance(module, nn.Module):\n",
        "                last_layer = module\n",
        "                break\n",
        "\n",
        "    # If we found the last layer, unfreeze its parameters\n",
        "    if last_layer is not None:\n",
        "        for param in last_layer.parameters():\n",
        "            param.requires_grad = True\n",
        "\n"
      ],
      "metadata": {
        "id": "v75LCxYkrW_m"
      },
      "execution_count": null,
      "outputs": []
    },
    {
      "cell_type": "code",
      "execution_count": null,
      "metadata": {
        "colab": {
          "base_uri": "https://localhost:8080/"
        },
        "collapsed": true,
        "id": "JL_vXx3mYJvV",
        "outputId": "9188518f-62cc-4aa7-dba7-640cdc7867eb"
      },
      "outputs": [
        {
          "output_type": "stream",
          "name": "stdout",
          "text": [
            "Loaded swin_t\n",
            "features.0.0.weight False\n",
            "features.0.0.bias False\n",
            "features.0.2.weight False\n",
            "features.0.2.bias False\n",
            "features.1.0.norm1.weight False\n",
            "features.1.0.norm1.bias False\n",
            "features.1.0.attn.relative_position_bias_table False\n",
            "features.1.0.attn.qkv.weight False\n",
            "features.1.0.attn.qkv.bias False\n",
            "features.1.0.attn.proj.weight False\n",
            "features.1.0.attn.proj.bias False\n",
            "features.1.0.norm2.weight False\n",
            "features.1.0.norm2.bias False\n",
            "features.1.0.mlp.0.weight False\n",
            "features.1.0.mlp.0.bias False\n",
            "features.1.0.mlp.3.weight False\n",
            "features.1.0.mlp.3.bias False\n",
            "features.1.1.norm1.weight False\n",
            "features.1.1.norm1.bias False\n",
            "features.1.1.attn.relative_position_bias_table False\n",
            "features.1.1.attn.qkv.weight False\n",
            "features.1.1.attn.qkv.bias False\n",
            "features.1.1.attn.proj.weight False\n",
            "features.1.1.attn.proj.bias False\n",
            "features.1.1.norm2.weight False\n",
            "features.1.1.norm2.bias False\n",
            "features.1.1.mlp.0.weight False\n",
            "features.1.1.mlp.0.bias False\n",
            "features.1.1.mlp.3.weight False\n",
            "features.1.1.mlp.3.bias False\n",
            "features.2.reduction.weight False\n",
            "features.2.norm.weight False\n",
            "features.2.norm.bias False\n",
            "features.3.0.norm1.weight False\n",
            "features.3.0.norm1.bias False\n",
            "features.3.0.attn.relative_position_bias_table False\n",
            "features.3.0.attn.qkv.weight False\n",
            "features.3.0.attn.qkv.bias False\n",
            "features.3.0.attn.proj.weight False\n",
            "features.3.0.attn.proj.bias False\n",
            "features.3.0.norm2.weight False\n",
            "features.3.0.norm2.bias False\n",
            "features.3.0.mlp.0.weight False\n",
            "features.3.0.mlp.0.bias False\n",
            "features.3.0.mlp.3.weight False\n",
            "features.3.0.mlp.3.bias False\n",
            "features.3.1.norm1.weight False\n",
            "features.3.1.norm1.bias False\n",
            "features.3.1.attn.relative_position_bias_table False\n",
            "features.3.1.attn.qkv.weight False\n",
            "features.3.1.attn.qkv.bias False\n",
            "features.3.1.attn.proj.weight False\n",
            "features.3.1.attn.proj.bias False\n",
            "features.3.1.norm2.weight False\n",
            "features.3.1.norm2.bias False\n",
            "features.3.1.mlp.0.weight False\n",
            "features.3.1.mlp.0.bias False\n",
            "features.3.1.mlp.3.weight False\n",
            "features.3.1.mlp.3.bias False\n",
            "features.4.reduction.weight False\n",
            "features.4.norm.weight False\n",
            "features.4.norm.bias False\n",
            "features.5.0.norm1.weight False\n",
            "features.5.0.norm1.bias False\n",
            "features.5.0.attn.relative_position_bias_table False\n",
            "features.5.0.attn.qkv.weight False\n",
            "features.5.0.attn.qkv.bias False\n",
            "features.5.0.attn.proj.weight False\n",
            "features.5.0.attn.proj.bias False\n",
            "features.5.0.norm2.weight False\n",
            "features.5.0.norm2.bias False\n",
            "features.5.0.mlp.0.weight False\n",
            "features.5.0.mlp.0.bias False\n",
            "features.5.0.mlp.3.weight False\n",
            "features.5.0.mlp.3.bias False\n",
            "features.5.1.norm1.weight False\n",
            "features.5.1.norm1.bias False\n",
            "features.5.1.attn.relative_position_bias_table False\n",
            "features.5.1.attn.qkv.weight False\n",
            "features.5.1.attn.qkv.bias False\n",
            "features.5.1.attn.proj.weight False\n",
            "features.5.1.attn.proj.bias False\n",
            "features.5.1.norm2.weight False\n",
            "features.5.1.norm2.bias False\n",
            "features.5.1.mlp.0.weight False\n",
            "features.5.1.mlp.0.bias False\n",
            "features.5.1.mlp.3.weight False\n",
            "features.5.1.mlp.3.bias False\n",
            "features.5.2.norm1.weight False\n",
            "features.5.2.norm1.bias False\n",
            "features.5.2.attn.relative_position_bias_table False\n",
            "features.5.2.attn.qkv.weight False\n",
            "features.5.2.attn.qkv.bias False\n",
            "features.5.2.attn.proj.weight False\n",
            "features.5.2.attn.proj.bias False\n",
            "features.5.2.norm2.weight False\n",
            "features.5.2.norm2.bias False\n",
            "features.5.2.mlp.0.weight False\n",
            "features.5.2.mlp.0.bias False\n",
            "features.5.2.mlp.3.weight False\n",
            "features.5.2.mlp.3.bias False\n",
            "features.5.3.norm1.weight False\n",
            "features.5.3.norm1.bias False\n",
            "features.5.3.attn.relative_position_bias_table False\n",
            "features.5.3.attn.qkv.weight False\n",
            "features.5.3.attn.qkv.bias False\n",
            "features.5.3.attn.proj.weight False\n",
            "features.5.3.attn.proj.bias False\n",
            "features.5.3.norm2.weight False\n",
            "features.5.3.norm2.bias False\n",
            "features.5.3.mlp.0.weight False\n",
            "features.5.3.mlp.0.bias False\n",
            "features.5.3.mlp.3.weight False\n",
            "features.5.3.mlp.3.bias False\n",
            "features.5.4.norm1.weight False\n",
            "features.5.4.norm1.bias False\n",
            "features.5.4.attn.relative_position_bias_table False\n",
            "features.5.4.attn.qkv.weight False\n",
            "features.5.4.attn.qkv.bias False\n",
            "features.5.4.attn.proj.weight False\n",
            "features.5.4.attn.proj.bias False\n",
            "features.5.4.norm2.weight False\n",
            "features.5.4.norm2.bias False\n",
            "features.5.4.mlp.0.weight False\n",
            "features.5.4.mlp.0.bias False\n",
            "features.5.4.mlp.3.weight False\n",
            "features.5.4.mlp.3.bias False\n",
            "features.5.5.norm1.weight False\n",
            "features.5.5.norm1.bias False\n",
            "features.5.5.attn.relative_position_bias_table False\n",
            "features.5.5.attn.qkv.weight False\n",
            "features.5.5.attn.qkv.bias False\n",
            "features.5.5.attn.proj.weight False\n",
            "features.5.5.attn.proj.bias False\n",
            "features.5.5.norm2.weight False\n",
            "features.5.5.norm2.bias False\n",
            "features.5.5.mlp.0.weight False\n",
            "features.5.5.mlp.0.bias False\n",
            "features.5.5.mlp.3.weight False\n",
            "features.5.5.mlp.3.bias False\n",
            "features.6.reduction.weight False\n",
            "features.6.norm.weight False\n",
            "features.6.norm.bias False\n",
            "features.7.0.norm1.weight False\n",
            "features.7.0.norm1.bias False\n",
            "features.7.0.attn.relative_position_bias_table False\n",
            "features.7.0.attn.qkv.weight False\n",
            "features.7.0.attn.qkv.bias False\n",
            "features.7.0.attn.proj.weight False\n",
            "features.7.0.attn.proj.bias False\n",
            "features.7.0.norm2.weight False\n",
            "features.7.0.norm2.bias False\n",
            "features.7.0.mlp.0.weight False\n",
            "features.7.0.mlp.0.bias False\n",
            "features.7.0.mlp.3.weight False\n",
            "features.7.0.mlp.3.bias False\n",
            "features.7.1.norm1.weight False\n",
            "features.7.1.norm1.bias False\n",
            "features.7.1.attn.relative_position_bias_table False\n",
            "features.7.1.attn.qkv.weight False\n",
            "features.7.1.attn.qkv.bias False\n",
            "features.7.1.attn.proj.weight False\n",
            "features.7.1.attn.proj.bias False\n",
            "features.7.1.norm2.weight False\n",
            "features.7.1.norm2.bias False\n",
            "features.7.1.mlp.0.weight False\n",
            "features.7.1.mlp.0.bias False\n",
            "features.7.1.mlp.3.weight False\n",
            "features.7.1.mlp.3.bias False\n",
            "norm.weight False\n",
            "norm.bias False\n",
            "head.weight True\n",
            "head.bias True\n"
          ]
        }
      ],
      "source": [
        "model2 = get_model()\n",
        "# Print the requires_grad status of each parameter to verify\n",
        "freeze_all_but_last_layer(model)\n",
        "for name, param in model.named_parameters():\n",
        "    print(name, param.requires_grad)\n"
      ]
    },
    {
      "cell_type": "code",
      "execution_count": null,
      "metadata": {
        "id": "zV9jTk29Y1NZ"
      },
      "outputs": [],
      "source": [
        "data_transforms = transforms.Compose([\n",
        "    transforms.Resize(config.IMAGE_SIZE),\n",
        "    transforms.ToTensor(),\n",
        "    transforms.Normalize(mean=[0.485, 0.456, 0.406], std=[0.229, 0.224, 0.225])\n",
        "])"
      ]
    },
    {
      "cell_type": "code",
      "execution_count": null,
      "metadata": {
        "colab": {
          "base_uri": "https://localhost:8080/",
          "height": 547
        },
        "id": "MTFp-CuMYGQ9",
        "outputId": "b3885f36-6594-4162-a8e4-a7a3ce9c5157"
      },
      "outputs": [
        {
          "output_type": "stream",
          "name": "stdout",
          "text": [
            "Loaded swin_t\n",
            "2450 train images loaded\n",
            "550 validation images loaded\n",
            "Counter({'Class0': 1, 'Class1': 1})\n",
            "55 test images loaded\n",
            "##### Transfer Learning Stage #####\n"
          ]
        },
        {
          "output_type": "stream",
          "name": "stderr",
          "text": [
            "100%|██████████| 39/39 [15:07<00:00, 23.27s/it]\n"
          ]
        },
        {
          "output_type": "stream",
          "name": "stdout",
          "text": [
            "Epoch 1/10, train_loss: 0.629, train_acc: 0.655, val_loss: 0.854, val_acc: 0.382\n"
          ]
        },
        {
          "output_type": "stream",
          "name": "stderr",
          "text": [
            "100%|██████████| 39/39 [00:20<00:00,  1.89it/s]\n"
          ]
        },
        {
          "output_type": "stream",
          "name": "stdout",
          "text": [
            "Epoch 2/10, train_loss: 0.539, train_acc: 0.742, val_loss: 0.761, val_acc: 0.442\n"
          ]
        },
        {
          "output_type": "stream",
          "name": "stderr",
          "text": [
            " 59%|█████▉    | 23/39 [00:13<00:09,  1.74it/s]\n"
          ]
        },
        {
          "output_type": "error",
          "ename": "KeyboardInterrupt",
          "evalue": "",
          "traceback": [
            "\u001b[0;31m---------------------------------------------------------------------------\u001b[0m",
            "\u001b[0;31mKeyboardInterrupt\u001b[0m                         Traceback (most recent call last)",
            "\u001b[0;32m<ipython-input-25-027b1b52ea23>\u001b[0m in \u001b[0;36m<cell line: 14>\u001b[0;34m()\u001b[0m\n\u001b[1;32m     12\u001b[0m \u001b[0;34m\u001b[0m\u001b[0m\n\u001b[1;32m     13\u001b[0m \u001b[0;34m\u001b[0m\u001b[0m\n\u001b[0;32m---> 14\u001b[0;31m \u001b[0mfinetune_pretrained\u001b[0m\u001b[0;34m(\u001b[0m\u001b[0mmodel\u001b[0m\u001b[0;34m,\u001b[0m \u001b[0mconfig\u001b[0m\u001b[0;34m,\u001b[0m \u001b[0mtrain_dl\u001b[0m\u001b[0;34m,\u001b[0m \u001b[0mval_dl\u001b[0m\u001b[0;34m=\u001b[0m\u001b[0mval_dl\u001b[0m\u001b[0;34m,\u001b[0m \u001b[0mtransfer\u001b[0m\u001b[0;34m=\u001b[0m\u001b[0;32mTrue\u001b[0m\u001b[0;34m)\u001b[0m\u001b[0;34m\u001b[0m\u001b[0;34m\u001b[0m\u001b[0m\n\u001b[0m\u001b[1;32m     15\u001b[0m \u001b[0;34m\u001b[0m\u001b[0m\n\u001b[1;32m     16\u001b[0m \u001b[0mloss_func\u001b[0m \u001b[0;34m=\u001b[0m \u001b[0mnn\u001b[0m\u001b[0;34m.\u001b[0m\u001b[0mBCEWithLogitsLoss\u001b[0m\u001b[0;34m(\u001b[0m\u001b[0;34m)\u001b[0m\u001b[0;34m\u001b[0m\u001b[0;34m\u001b[0m\u001b[0m\n",
            "\u001b[0;32m<ipython-input-19-6836c3156dd7>\u001b[0m in \u001b[0;36mfinetune_pretrained\u001b[0;34m(base_model, config, train_dl, val_dl, transfer, out_dir)\u001b[0m\n\u001b[1;32m     27\u001b[0m         \u001b[0mprint\u001b[0m\u001b[0;34m(\u001b[0m\u001b[0;34m\"##### Transfer Learning Stage #####\"\u001b[0m\u001b[0;34m)\u001b[0m\u001b[0;34m\u001b[0m\u001b[0;34m\u001b[0m\u001b[0m\n\u001b[1;32m     28\u001b[0m         \u001b[0;32mfor\u001b[0m \u001b[0mepoch\u001b[0m \u001b[0;32min\u001b[0m \u001b[0mrange\u001b[0m\u001b[0;34m(\u001b[0m\u001b[0;36m1\u001b[0m\u001b[0;34m,\u001b[0m \u001b[0mconfig\u001b[0m\u001b[0;34m.\u001b[0m\u001b[0mTRANSFER_EPOCHS\u001b[0m\u001b[0;34m+\u001b[0m\u001b[0;36m1\u001b[0m\u001b[0;34m)\u001b[0m\u001b[0;34m:\u001b[0m\u001b[0;34m\u001b[0m\u001b[0;34m\u001b[0m\u001b[0m\n\u001b[0;32m---> 29\u001b[0;31m             \u001b[0mmetrics\u001b[0m \u001b[0;34m=\u001b[0m \u001b[0mtrain_step\u001b[0m\u001b[0;34m(\u001b[0m\u001b[0mbase_model\u001b[0m\u001b[0;34m,\u001b[0m \u001b[0moptimizer\u001b[0m\u001b[0;34m,\u001b[0m \u001b[0mloss_func\u001b[0m\u001b[0;34m,\u001b[0m \u001b[0mtrain_dl\u001b[0m\u001b[0;34m,\u001b[0m \u001b[0mepoch\u001b[0m\u001b[0;34m,\u001b[0m \u001b[0mscheduler\u001b[0m\u001b[0;34m=\u001b[0m\u001b[0mscheduler\u001b[0m\u001b[0;34m,\u001b[0m \u001b[0mlog_metrics\u001b[0m\u001b[0;34m=\u001b[0m\u001b[0;32mTrue\u001b[0m\u001b[0;34m)\u001b[0m\u001b[0;34m\u001b[0m\u001b[0;34m\u001b[0m\u001b[0m\n\u001b[0m\u001b[1;32m     30\u001b[0m             \u001b[0;32mif\u001b[0m \u001b[0mval_dl\u001b[0m\u001b[0;34m:\u001b[0m\u001b[0;34m\u001b[0m\u001b[0;34m\u001b[0m\u001b[0m\n\u001b[1;32m     31\u001b[0m                 \u001b[0mval_metrics\u001b[0m \u001b[0;34m=\u001b[0m \u001b[0mvalidate_model\u001b[0m\u001b[0;34m(\u001b[0m\u001b[0mbase_model\u001b[0m\u001b[0;34m,\u001b[0m \u001b[0mval_dl\u001b[0m\u001b[0;34m,\u001b[0m \u001b[0mloss_func\u001b[0m\u001b[0;34m,\u001b[0m \u001b[0mlog_graphs\u001b[0m\u001b[0;34m=\u001b[0m\u001b[0;32mFalse\u001b[0m\u001b[0;34m,\u001b[0m \u001b[0mlog_images\u001b[0m\u001b[0;34m=\u001b[0m\u001b[0;32mFalse\u001b[0m\u001b[0;34m,\u001b[0m \u001b[0mbatch_idx\u001b[0m\u001b[0;34m=\u001b[0m\u001b[0;36m0\u001b[0m\u001b[0;34m,\u001b[0m \u001b[0mtag\u001b[0m\u001b[0;34m=\u001b[0m\u001b[0;34m\"val\"\u001b[0m\u001b[0;34m)\u001b[0m\u001b[0;34m\u001b[0m\u001b[0;34m\u001b[0m\u001b[0m\n",
            "\u001b[0;32m<ipython-input-18-f599ed5cd4a3>\u001b[0m in \u001b[0;36mtrain_step\u001b[0;34m(model, optimizer, loss_func, dl, epoch, scheduler, log_metrics)\u001b[0m\n\u001b[1;32m      9\u001b[0m \u001b[0;34m\u001b[0m\u001b[0m\n\u001b[1;32m     10\u001b[0m     \u001b[0mstart_time\u001b[0m \u001b[0;34m=\u001b[0m \u001b[0mtime\u001b[0m\u001b[0;34m.\u001b[0m\u001b[0mtime\u001b[0m\u001b[0;34m(\u001b[0m\u001b[0;34m)\u001b[0m\u001b[0;34m\u001b[0m\u001b[0;34m\u001b[0m\u001b[0m\n\u001b[0;32m---> 11\u001b[0;31m     \u001b[0;32mfor\u001b[0m \u001b[0mstep\u001b[0m\u001b[0;34m,\u001b[0m \u001b[0;34m(\u001b[0m\u001b[0mimages\u001b[0m\u001b[0;34m,\u001b[0m \u001b[0mlabels\u001b[0m\u001b[0;34m)\u001b[0m \u001b[0;32min\u001b[0m \u001b[0menumerate\u001b[0m\u001b[0;34m(\u001b[0m\u001b[0mtqdm\u001b[0m\u001b[0;34m(\u001b[0m\u001b[0mdl\u001b[0m\u001b[0;34m)\u001b[0m\u001b[0;34m)\u001b[0m\u001b[0;34m:\u001b[0m\u001b[0;34m\u001b[0m\u001b[0;34m\u001b[0m\u001b[0m\n\u001b[0m\u001b[1;32m     12\u001b[0m         \u001b[0miter_metric\u001b[0m \u001b[0;34m=\u001b[0m \u001b[0;34m{\u001b[0m\u001b[0;34m}\u001b[0m\u001b[0;34m\u001b[0m\u001b[0;34m\u001b[0m\u001b[0m\n\u001b[1;32m     13\u001b[0m         \u001b[0mimages\u001b[0m\u001b[0;34m,\u001b[0m \u001b[0mlabels\u001b[0m \u001b[0;34m=\u001b[0m \u001b[0mimages\u001b[0m\u001b[0;34m.\u001b[0m\u001b[0mto\u001b[0m\u001b[0;34m(\u001b[0m\u001b[0mdevice\u001b[0m\u001b[0;34m)\u001b[0m\u001b[0;34m,\u001b[0m \u001b[0mlabels\u001b[0m\u001b[0;34m.\u001b[0m\u001b[0mto\u001b[0m\u001b[0;34m(\u001b[0m\u001b[0mdevice\u001b[0m\u001b[0;34m)\u001b[0m\u001b[0;34m\u001b[0m\u001b[0;34m\u001b[0m\u001b[0m\n",
            "\u001b[0;32m/usr/local/lib/python3.10/dist-packages/tqdm/std.py\u001b[0m in \u001b[0;36m__iter__\u001b[0;34m(self)\u001b[0m\n\u001b[1;32m   1179\u001b[0m \u001b[0;34m\u001b[0m\u001b[0m\n\u001b[1;32m   1180\u001b[0m         \u001b[0;32mtry\u001b[0m\u001b[0;34m:\u001b[0m\u001b[0;34m\u001b[0m\u001b[0;34m\u001b[0m\u001b[0m\n\u001b[0;32m-> 1181\u001b[0;31m             \u001b[0;32mfor\u001b[0m \u001b[0mobj\u001b[0m \u001b[0;32min\u001b[0m \u001b[0miterable\u001b[0m\u001b[0;34m:\u001b[0m\u001b[0;34m\u001b[0m\u001b[0;34m\u001b[0m\u001b[0m\n\u001b[0m\u001b[1;32m   1182\u001b[0m                 \u001b[0;32myield\u001b[0m \u001b[0mobj\u001b[0m\u001b[0;34m\u001b[0m\u001b[0;34m\u001b[0m\u001b[0m\n\u001b[1;32m   1183\u001b[0m                 \u001b[0;31m# Update and possibly print the progressbar.\u001b[0m\u001b[0;34m\u001b[0m\u001b[0;34m\u001b[0m\u001b[0m\n",
            "\u001b[0;32m/usr/local/lib/python3.10/dist-packages/torch/utils/data/dataloader.py\u001b[0m in \u001b[0;36m__next__\u001b[0;34m(self)\u001b[0m\n\u001b[1;32m    628\u001b[0m                 \u001b[0;31m# TODO(https://github.com/pytorch/pytorch/issues/76750)\u001b[0m\u001b[0;34m\u001b[0m\u001b[0;34m\u001b[0m\u001b[0m\n\u001b[1;32m    629\u001b[0m                 \u001b[0mself\u001b[0m\u001b[0;34m.\u001b[0m\u001b[0m_reset\u001b[0m\u001b[0;34m(\u001b[0m\u001b[0;34m)\u001b[0m  \u001b[0;31m# type: ignore[call-arg]\u001b[0m\u001b[0;34m\u001b[0m\u001b[0;34m\u001b[0m\u001b[0m\n\u001b[0;32m--> 630\u001b[0;31m             \u001b[0mdata\u001b[0m \u001b[0;34m=\u001b[0m \u001b[0mself\u001b[0m\u001b[0;34m.\u001b[0m\u001b[0m_next_data\u001b[0m\u001b[0;34m(\u001b[0m\u001b[0;34m)\u001b[0m\u001b[0;34m\u001b[0m\u001b[0;34m\u001b[0m\u001b[0m\n\u001b[0m\u001b[1;32m    631\u001b[0m             \u001b[0mself\u001b[0m\u001b[0;34m.\u001b[0m\u001b[0m_num_yielded\u001b[0m \u001b[0;34m+=\u001b[0m \u001b[0;36m1\u001b[0m\u001b[0;34m\u001b[0m\u001b[0;34m\u001b[0m\u001b[0m\n\u001b[1;32m    632\u001b[0m             \u001b[0;32mif\u001b[0m \u001b[0mself\u001b[0m\u001b[0;34m.\u001b[0m\u001b[0m_dataset_kind\u001b[0m \u001b[0;34m==\u001b[0m \u001b[0m_DatasetKind\u001b[0m\u001b[0;34m.\u001b[0m\u001b[0mIterable\u001b[0m \u001b[0;32mand\u001b[0m\u001b[0;31m \u001b[0m\u001b[0;31m\\\u001b[0m\u001b[0;34m\u001b[0m\u001b[0;34m\u001b[0m\u001b[0m\n",
            "\u001b[0;32m/usr/local/lib/python3.10/dist-packages/torch/utils/data/dataloader.py\u001b[0m in \u001b[0;36m_next_data\u001b[0;34m(self)\u001b[0m\n\u001b[1;32m    671\u001b[0m     \u001b[0;32mdef\u001b[0m \u001b[0m_next_data\u001b[0m\u001b[0;34m(\u001b[0m\u001b[0mself\u001b[0m\u001b[0;34m)\u001b[0m\u001b[0;34m:\u001b[0m\u001b[0;34m\u001b[0m\u001b[0;34m\u001b[0m\u001b[0m\n\u001b[1;32m    672\u001b[0m         \u001b[0mindex\u001b[0m \u001b[0;34m=\u001b[0m \u001b[0mself\u001b[0m\u001b[0;34m.\u001b[0m\u001b[0m_next_index\u001b[0m\u001b[0;34m(\u001b[0m\u001b[0;34m)\u001b[0m  \u001b[0;31m# may raise StopIteration\u001b[0m\u001b[0;34m\u001b[0m\u001b[0;34m\u001b[0m\u001b[0m\n\u001b[0;32m--> 673\u001b[0;31m         \u001b[0mdata\u001b[0m \u001b[0;34m=\u001b[0m \u001b[0mself\u001b[0m\u001b[0;34m.\u001b[0m\u001b[0m_dataset_fetcher\u001b[0m\u001b[0;34m.\u001b[0m\u001b[0mfetch\u001b[0m\u001b[0;34m(\u001b[0m\u001b[0mindex\u001b[0m\u001b[0;34m)\u001b[0m  \u001b[0;31m# may raise StopIteration\u001b[0m\u001b[0;34m\u001b[0m\u001b[0;34m\u001b[0m\u001b[0m\n\u001b[0m\u001b[1;32m    674\u001b[0m         \u001b[0;32mif\u001b[0m \u001b[0mself\u001b[0m\u001b[0;34m.\u001b[0m\u001b[0m_pin_memory\u001b[0m\u001b[0;34m:\u001b[0m\u001b[0;34m\u001b[0m\u001b[0;34m\u001b[0m\u001b[0m\n\u001b[1;32m    675\u001b[0m             \u001b[0mdata\u001b[0m \u001b[0;34m=\u001b[0m \u001b[0m_utils\u001b[0m\u001b[0;34m.\u001b[0m\u001b[0mpin_memory\u001b[0m\u001b[0;34m.\u001b[0m\u001b[0mpin_memory\u001b[0m\u001b[0;34m(\u001b[0m\u001b[0mdata\u001b[0m\u001b[0;34m,\u001b[0m \u001b[0mself\u001b[0m\u001b[0;34m.\u001b[0m\u001b[0m_pin_memory_device\u001b[0m\u001b[0;34m)\u001b[0m\u001b[0;34m\u001b[0m\u001b[0;34m\u001b[0m\u001b[0m\n",
            "\u001b[0;32m/usr/local/lib/python3.10/dist-packages/torch/utils/data/_utils/fetch.py\u001b[0m in \u001b[0;36mfetch\u001b[0;34m(self, possibly_batched_index)\u001b[0m\n\u001b[1;32m     48\u001b[0m         \u001b[0;32mif\u001b[0m \u001b[0mself\u001b[0m\u001b[0;34m.\u001b[0m\u001b[0mauto_collation\u001b[0m\u001b[0;34m:\u001b[0m\u001b[0;34m\u001b[0m\u001b[0;34m\u001b[0m\u001b[0m\n\u001b[1;32m     49\u001b[0m             \u001b[0;32mif\u001b[0m \u001b[0mhasattr\u001b[0m\u001b[0;34m(\u001b[0m\u001b[0mself\u001b[0m\u001b[0;34m.\u001b[0m\u001b[0mdataset\u001b[0m\u001b[0;34m,\u001b[0m \u001b[0;34m\"__getitems__\"\u001b[0m\u001b[0;34m)\u001b[0m \u001b[0;32mand\u001b[0m \u001b[0mself\u001b[0m\u001b[0;34m.\u001b[0m\u001b[0mdataset\u001b[0m\u001b[0;34m.\u001b[0m\u001b[0m__getitems__\u001b[0m\u001b[0;34m:\u001b[0m\u001b[0;34m\u001b[0m\u001b[0;34m\u001b[0m\u001b[0m\n\u001b[0;32m---> 50\u001b[0;31m                 \u001b[0mdata\u001b[0m \u001b[0;34m=\u001b[0m \u001b[0mself\u001b[0m\u001b[0;34m.\u001b[0m\u001b[0mdataset\u001b[0m\u001b[0;34m.\u001b[0m\u001b[0m__getitems__\u001b[0m\u001b[0;34m(\u001b[0m\u001b[0mpossibly_batched_index\u001b[0m\u001b[0;34m)\u001b[0m\u001b[0;34m\u001b[0m\u001b[0;34m\u001b[0m\u001b[0m\n\u001b[0m\u001b[1;32m     51\u001b[0m             \u001b[0;32melse\u001b[0m\u001b[0;34m:\u001b[0m\u001b[0;34m\u001b[0m\u001b[0;34m\u001b[0m\u001b[0m\n\u001b[1;32m     52\u001b[0m                 \u001b[0mdata\u001b[0m \u001b[0;34m=\u001b[0m \u001b[0;34m[\u001b[0m\u001b[0mself\u001b[0m\u001b[0;34m.\u001b[0m\u001b[0mdataset\u001b[0m\u001b[0;34m[\u001b[0m\u001b[0midx\u001b[0m\u001b[0;34m]\u001b[0m \u001b[0;32mfor\u001b[0m \u001b[0midx\u001b[0m \u001b[0;32min\u001b[0m \u001b[0mpossibly_batched_index\u001b[0m\u001b[0;34m]\u001b[0m\u001b[0;34m\u001b[0m\u001b[0;34m\u001b[0m\u001b[0m\n",
            "\u001b[0;32m/usr/local/lib/python3.10/dist-packages/torch/utils/data/dataset.py\u001b[0m in \u001b[0;36m__getitems__\u001b[0;34m(self, indices)\u001b[0m\n\u001b[1;32m    418\u001b[0m             \u001b[0;32mreturn\u001b[0m \u001b[0mself\u001b[0m\u001b[0;34m.\u001b[0m\u001b[0mdataset\u001b[0m\u001b[0;34m.\u001b[0m\u001b[0m__getitems__\u001b[0m\u001b[0;34m(\u001b[0m\u001b[0;34m[\u001b[0m\u001b[0mself\u001b[0m\u001b[0;34m.\u001b[0m\u001b[0mindices\u001b[0m\u001b[0;34m[\u001b[0m\u001b[0midx\u001b[0m\u001b[0;34m]\u001b[0m \u001b[0;32mfor\u001b[0m \u001b[0midx\u001b[0m \u001b[0;32min\u001b[0m \u001b[0mindices\u001b[0m\u001b[0;34m]\u001b[0m\u001b[0;34m)\u001b[0m  \u001b[0;31m# type: ignore[attr-defined]\u001b[0m\u001b[0;34m\u001b[0m\u001b[0;34m\u001b[0m\u001b[0m\n\u001b[1;32m    419\u001b[0m         \u001b[0;32melse\u001b[0m\u001b[0;34m:\u001b[0m\u001b[0;34m\u001b[0m\u001b[0;34m\u001b[0m\u001b[0m\n\u001b[0;32m--> 420\u001b[0;31m             \u001b[0;32mreturn\u001b[0m \u001b[0;34m[\u001b[0m\u001b[0mself\u001b[0m\u001b[0;34m.\u001b[0m\u001b[0mdataset\u001b[0m\u001b[0;34m[\u001b[0m\u001b[0mself\u001b[0m\u001b[0;34m.\u001b[0m\u001b[0mindices\u001b[0m\u001b[0;34m[\u001b[0m\u001b[0midx\u001b[0m\u001b[0;34m]\u001b[0m\u001b[0;34m]\u001b[0m \u001b[0;32mfor\u001b[0m \u001b[0midx\u001b[0m \u001b[0;32min\u001b[0m \u001b[0mindices\u001b[0m\u001b[0;34m]\u001b[0m\u001b[0;34m\u001b[0m\u001b[0;34m\u001b[0m\u001b[0m\n\u001b[0m\u001b[1;32m    421\u001b[0m \u001b[0;34m\u001b[0m\u001b[0m\n\u001b[1;32m    422\u001b[0m     \u001b[0;32mdef\u001b[0m \u001b[0m__len__\u001b[0m\u001b[0;34m(\u001b[0m\u001b[0mself\u001b[0m\u001b[0;34m)\u001b[0m\u001b[0;34m:\u001b[0m\u001b[0;34m\u001b[0m\u001b[0;34m\u001b[0m\u001b[0m\n",
            "\u001b[0;32m/usr/local/lib/python3.10/dist-packages/torch/utils/data/dataset.py\u001b[0m in \u001b[0;36m<listcomp>\u001b[0;34m(.0)\u001b[0m\n\u001b[1;32m    418\u001b[0m             \u001b[0;32mreturn\u001b[0m \u001b[0mself\u001b[0m\u001b[0;34m.\u001b[0m\u001b[0mdataset\u001b[0m\u001b[0;34m.\u001b[0m\u001b[0m__getitems__\u001b[0m\u001b[0;34m(\u001b[0m\u001b[0;34m[\u001b[0m\u001b[0mself\u001b[0m\u001b[0;34m.\u001b[0m\u001b[0mindices\u001b[0m\u001b[0;34m[\u001b[0m\u001b[0midx\u001b[0m\u001b[0;34m]\u001b[0m \u001b[0;32mfor\u001b[0m \u001b[0midx\u001b[0m \u001b[0;32min\u001b[0m \u001b[0mindices\u001b[0m\u001b[0;34m]\u001b[0m\u001b[0;34m)\u001b[0m  \u001b[0;31m# type: ignore[attr-defined]\u001b[0m\u001b[0;34m\u001b[0m\u001b[0;34m\u001b[0m\u001b[0m\n\u001b[1;32m    419\u001b[0m         \u001b[0;32melse\u001b[0m\u001b[0;34m:\u001b[0m\u001b[0;34m\u001b[0m\u001b[0;34m\u001b[0m\u001b[0m\n\u001b[0;32m--> 420\u001b[0;31m             \u001b[0;32mreturn\u001b[0m \u001b[0;34m[\u001b[0m\u001b[0mself\u001b[0m\u001b[0;34m.\u001b[0m\u001b[0mdataset\u001b[0m\u001b[0;34m[\u001b[0m\u001b[0mself\u001b[0m\u001b[0;34m.\u001b[0m\u001b[0mindices\u001b[0m\u001b[0;34m[\u001b[0m\u001b[0midx\u001b[0m\u001b[0;34m]\u001b[0m\u001b[0;34m]\u001b[0m \u001b[0;32mfor\u001b[0m \u001b[0midx\u001b[0m \u001b[0;32min\u001b[0m \u001b[0mindices\u001b[0m\u001b[0;34m]\u001b[0m\u001b[0;34m\u001b[0m\u001b[0;34m\u001b[0m\u001b[0m\n\u001b[0m\u001b[1;32m    421\u001b[0m \u001b[0;34m\u001b[0m\u001b[0m\n\u001b[1;32m    422\u001b[0m     \u001b[0;32mdef\u001b[0m \u001b[0m__len__\u001b[0m\u001b[0;34m(\u001b[0m\u001b[0mself\u001b[0m\u001b[0;34m)\u001b[0m\u001b[0;34m:\u001b[0m\u001b[0;34m\u001b[0m\u001b[0;34m\u001b[0m\u001b[0m\n",
            "\u001b[0;32m/usr/local/lib/python3.10/dist-packages/torchvision/datasets/folder.py\u001b[0m in \u001b[0;36m__getitem__\u001b[0;34m(self, index)\u001b[0m\n\u001b[1;32m    243\u001b[0m         \"\"\"\n\u001b[1;32m    244\u001b[0m         \u001b[0mpath\u001b[0m\u001b[0;34m,\u001b[0m \u001b[0mtarget\u001b[0m \u001b[0;34m=\u001b[0m \u001b[0mself\u001b[0m\u001b[0;34m.\u001b[0m\u001b[0msamples\u001b[0m\u001b[0;34m[\u001b[0m\u001b[0mindex\u001b[0m\u001b[0;34m]\u001b[0m\u001b[0;34m\u001b[0m\u001b[0;34m\u001b[0m\u001b[0m\n\u001b[0;32m--> 245\u001b[0;31m         \u001b[0msample\u001b[0m \u001b[0;34m=\u001b[0m \u001b[0mself\u001b[0m\u001b[0;34m.\u001b[0m\u001b[0mloader\u001b[0m\u001b[0;34m(\u001b[0m\u001b[0mpath\u001b[0m\u001b[0;34m)\u001b[0m\u001b[0;34m\u001b[0m\u001b[0;34m\u001b[0m\u001b[0m\n\u001b[0m\u001b[1;32m    246\u001b[0m         \u001b[0;32mif\u001b[0m \u001b[0mself\u001b[0m\u001b[0;34m.\u001b[0m\u001b[0mtransform\u001b[0m \u001b[0;32mis\u001b[0m \u001b[0;32mnot\u001b[0m \u001b[0;32mNone\u001b[0m\u001b[0;34m:\u001b[0m\u001b[0;34m\u001b[0m\u001b[0;34m\u001b[0m\u001b[0m\n\u001b[1;32m    247\u001b[0m             \u001b[0msample\u001b[0m \u001b[0;34m=\u001b[0m \u001b[0mself\u001b[0m\u001b[0;34m.\u001b[0m\u001b[0mtransform\u001b[0m\u001b[0;34m(\u001b[0m\u001b[0msample\u001b[0m\u001b[0;34m)\u001b[0m\u001b[0;34m\u001b[0m\u001b[0;34m\u001b[0m\u001b[0m\n",
            "\u001b[0;32m/usr/local/lib/python3.10/dist-packages/torchvision/datasets/folder.py\u001b[0m in \u001b[0;36mdefault_loader\u001b[0;34m(path)\u001b[0m\n\u001b[1;32m    282\u001b[0m         \u001b[0;32mreturn\u001b[0m \u001b[0maccimage_loader\u001b[0m\u001b[0;34m(\u001b[0m\u001b[0mpath\u001b[0m\u001b[0;34m)\u001b[0m\u001b[0;34m\u001b[0m\u001b[0;34m\u001b[0m\u001b[0m\n\u001b[1;32m    283\u001b[0m     \u001b[0;32melse\u001b[0m\u001b[0;34m:\u001b[0m\u001b[0;34m\u001b[0m\u001b[0;34m\u001b[0m\u001b[0m\n\u001b[0;32m--> 284\u001b[0;31m         \u001b[0;32mreturn\u001b[0m \u001b[0mpil_loader\u001b[0m\u001b[0;34m(\u001b[0m\u001b[0mpath\u001b[0m\u001b[0;34m)\u001b[0m\u001b[0;34m\u001b[0m\u001b[0;34m\u001b[0m\u001b[0m\n\u001b[0m\u001b[1;32m    285\u001b[0m \u001b[0;34m\u001b[0m\u001b[0m\n\u001b[1;32m    286\u001b[0m \u001b[0;34m\u001b[0m\u001b[0m\n",
            "\u001b[0;32m/usr/local/lib/python3.10/dist-packages/torchvision/datasets/folder.py\u001b[0m in \u001b[0;36mpil_loader\u001b[0;34m(path)\u001b[0m\n\u001b[1;32m    261\u001b[0m     \u001b[0;31m# open path as file to avoid ResourceWarning (https://github.com/python-pillow/Pillow/issues/835)\u001b[0m\u001b[0;34m\u001b[0m\u001b[0;34m\u001b[0m\u001b[0m\n\u001b[1;32m    262\u001b[0m     \u001b[0;32mwith\u001b[0m \u001b[0mopen\u001b[0m\u001b[0;34m(\u001b[0m\u001b[0mpath\u001b[0m\u001b[0;34m,\u001b[0m \u001b[0;34m\"rb\"\u001b[0m\u001b[0;34m)\u001b[0m \u001b[0;32mas\u001b[0m \u001b[0mf\u001b[0m\u001b[0;34m:\u001b[0m\u001b[0;34m\u001b[0m\u001b[0;34m\u001b[0m\u001b[0m\n\u001b[0;32m--> 263\u001b[0;31m         \u001b[0mimg\u001b[0m \u001b[0;34m=\u001b[0m \u001b[0mImage\u001b[0m\u001b[0;34m.\u001b[0m\u001b[0mopen\u001b[0m\u001b[0;34m(\u001b[0m\u001b[0mf\u001b[0m\u001b[0;34m)\u001b[0m\u001b[0;34m\u001b[0m\u001b[0;34m\u001b[0m\u001b[0m\n\u001b[0m\u001b[1;32m    264\u001b[0m         \u001b[0;32mreturn\u001b[0m \u001b[0mimg\u001b[0m\u001b[0;34m.\u001b[0m\u001b[0mconvert\u001b[0m\u001b[0;34m(\u001b[0m\u001b[0;34m\"RGB\"\u001b[0m\u001b[0;34m)\u001b[0m\u001b[0;34m\u001b[0m\u001b[0;34m\u001b[0m\u001b[0m\n\u001b[1;32m    265\u001b[0m \u001b[0;34m\u001b[0m\u001b[0m\n",
            "\u001b[0;32m/usr/local/lib/python3.10/dist-packages/PIL/Image.py\u001b[0m in \u001b[0;36mopen\u001b[0;34m(fp, mode, formats)\u001b[0m\n\u001b[1;32m   3373\u001b[0m \u001b[0;34m\u001b[0m\u001b[0m\n\u001b[1;32m   3374\u001b[0m \u001b[0;34m\u001b[0m\u001b[0m\n\u001b[0;32m-> 3375\u001b[0;31m def open(\n\u001b[0m\u001b[1;32m   3376\u001b[0m     \u001b[0mfp\u001b[0m\u001b[0;34m:\u001b[0m \u001b[0mStrOrBytesPath\u001b[0m \u001b[0;34m|\u001b[0m \u001b[0mIO\u001b[0m\u001b[0;34m[\u001b[0m\u001b[0mbytes\u001b[0m\u001b[0;34m]\u001b[0m\u001b[0;34m,\u001b[0m\u001b[0;34m\u001b[0m\u001b[0;34m\u001b[0m\u001b[0m\n\u001b[1;32m   3377\u001b[0m     \u001b[0mmode\u001b[0m\u001b[0;34m:\u001b[0m \u001b[0mLiteral\u001b[0m\u001b[0;34m[\u001b[0m\u001b[0;34m\"r\"\u001b[0m\u001b[0;34m]\u001b[0m \u001b[0;34m=\u001b[0m \u001b[0;34m\"r\"\u001b[0m\u001b[0;34m,\u001b[0m\u001b[0;34m\u001b[0m\u001b[0;34m\u001b[0m\u001b[0m\n",
            "\u001b[0;31mKeyboardInterrupt\u001b[0m: "
          ]
        }
      ],
      "source": [
        "model = get_model(\"swin_t\")\n",
        "sum(p.numel() for p in model.parameters())\n",
        "# model = get_simple_model()\n",
        "\n",
        "train_dl = get_train_dataloader(config.BATCH_SIZE, data_transforms, frac=1)\n",
        "val_dl = get_val_dataloader(config.BATCH_SIZE, data_transforms, frac=1)\n",
        "test_dl = get_test_dataloader(config.BATCH_SIZE, data_transforms)\n",
        "\n",
        "wandb.config[\"num_iterations\"] = len(train_dl)\n",
        "wandb.config[\"num_parameters\"] = sum(p.numel() for p in model.parameters())\n",
        "config = wandb.config\n",
        "\n",
        "\n",
        "finetune_pretrained(model, config, train_dl, val_dl=val_dl, transfer=True)\n",
        "\n",
        "loss_func = nn.BCEWithLogitsLoss()\n",
        "validate_model(model, test_dl, loss_func, log_graphs=True, log_images=True, batch_idx=0, tag=\"test\")\n",
        "\n",
        "wandb.finish()"
      ]
    },
    {
      "cell_type": "code",
      "source": [
        "import huggingface_hub as hub\n",
        "hub.login()"
      ],
      "metadata": {
        "colab": {
          "base_uri": "https://localhost:8080/",
          "height": 145,
          "referenced_widgets": [
            "1804418b98dd4553a9701452ee4fd788",
            "518b8b8e16cc4cada1957cac4c7b1885",
            "2672c736d0764088bd3985f55c7d7f8b",
            "f88d02ed967a4a58bcc7122863f3b395",
            "1bd46a8c344b4b1cac7f2d3708f3bbd5",
            "d37332db555b4134a8573f1ff479673e",
            "7c7be4001ff84dc09fac0ae97bdb8ab6",
            "064c2988213b4d13bdbe59ec9a04c4ef",
            "6a70a3f561d4406686cbfc85e81abc1b",
            "7f1c4e890283441ea42a1a846ee26f16",
            "bdda6d63005e494f896ddb00021cbbbd",
            "233194a9a1a149f5bc9f8c5f996f5503",
            "9159e2b68d9e4cb3a3c5a274dbbd84f9",
            "61b6c8b548ad40e09f5fed8919b8b1bc",
            "d4369ca019634d589c4b6ce9e1a20221",
            "6e74369caba44fb0a3745ff74aa281e0",
            "2d34c7d9db7c4204b6cb7538ae024f0e",
            "cc8de721cf4641fcb725e6c0248ca7c6",
            "c4b7c60eafcc45fd92d8304d52ecbf94",
            "16c95aca679c42529a65389d8377214c",
            "759df1eb64a1422597a83682356312ed",
            "a061c08737124b9cba204761a90e4580",
            "8da78a58427d4a0dafcd7eee7beb7050",
            "1150178e41274d23969e1e841fee72f5",
            "ae9834e6e5c34d94b4e0e27876728d81",
            "5a3cee53df5248efbfa6e6ac55693804",
            "01f580c37f9a4fc1a971d322e7f46aae",
            "4eb3f40d61c64d50ba640f96dfeb5e55",
            "cad6111288644960a49fe35b415db07a",
            "05efe593a7a44d7abeb2fa80990513da",
            "3a10382c4eae452e85b2a808009f99a5",
            "be43f0376c574dea8424123189d2a9b1"
          ]
        },
        "id": "nMRuClOiEngt",
        "outputId": "fb743955-cd77-463c-b4f1-9cc8876253d7"
      },
      "execution_count": null,
      "outputs": [
        {
          "output_type": "display_data",
          "data": {
            "text/plain": [
              "VBox(children=(HTML(value='<center> <img\\nsrc=https://huggingface.co/front/assets/huggingface_logo-noborder.sv…"
            ],
            "application/vnd.jupyter.widget-view+json": {
              "version_major": 2,
              "version_minor": 0,
              "model_id": "1804418b98dd4553a9701452ee4fd788"
            }
          },
          "metadata": {}
        }
      ]
    },
    {
      "cell_type": "code",
      "source": [
        "# Save the model\n",
        "torch.save(model.state_dict(), \"strep_model.pth\")\n"
      ],
      "metadata": {
        "id": "mEKzPIxVGDUF"
      },
      "execution_count": null,
      "outputs": []
    },
    {
      "cell_type": "code",
      "source": [
        "# model.push_to_hub(\"Prasi21/Strep-Throat-Classification-Swin_T\")\n",
        "from huggingface_hub import HfApi\n",
        "\n",
        "api = HfApi()\n",
        "api.create_repo(repo_id=\"Prasi21/Strep-Throat-Classification-Swin_T\")\n",
        "\n"
      ],
      "metadata": {
        "colab": {
          "base_uri": "https://localhost:8080/",
          "height": 52
        },
        "id": "Q92wNqctEwUN",
        "outputId": "6a70081b-f245-4852-df83-2f6a473e67ed"
      },
      "execution_count": null,
      "outputs": [
        {
          "output_type": "execute_result",
          "data": {
            "text/plain": [
              "RepoUrl('https://huggingface.co/Prasi21/Strep-Throat-Classification-Swin_T', endpoint='https://huggingface.co', repo_type='model', repo_id='Prasi21/Strep-Throat-Classification-Swin_T')"
            ],
            "application/vnd.google.colaboratory.intrinsic+json": {
              "type": "string"
            }
          },
          "metadata": {},
          "execution_count": 28
        }
      ]
    },
    {
      "cell_type": "code",
      "source": [
        "from huggingface_hub import HfApi, HfFolder, Repository\n",
        "\n",
        "# Define the repository\n",
        "repo_url = api.create_repo(\"Strep-Throat-Classification-Swin_T\", exist_ok=True)\n",
        "\n",
        "# Clone the repository\n",
        "repo = Repository(local_dir=\"Strep-Throat-Classification-Swin_T\", clone_from=repo_url)\n",
        "\n",
        "# Copy your model file to the repository folder\n",
        "import shutil\n",
        "#  or for PyTorch\n",
        "shutil.copy(\"strep_model.pth\", \"Strep-Throat-Classification-Swin_T/\")\n",
        "\n",
        "# Push the files to the Hugging Face Hub\n",
        "repo.push_to_hub()\n"
      ],
      "metadata": {
        "colab": {
          "base_uri": "https://localhost:8080/",
          "height": 206,
          "referenced_widgets": [
            "b6fdd4691fb04e5cac47dddbd6bb2ae6",
            "2abc8cd0ba9542f5ad19af03ed5078e0",
            "1f74ec5c4ad54e95913add714b4f970b",
            "a028dbb3bc3a436d89c80d3672b1497d",
            "17c9d4df34f7452c87fee5dcb69fb6cb",
            "bf272aa319534bd0b2812321c44168dc",
            "76025b4c1b1947758754d451f5db4fb7",
            "0b5c58442acc47f49627054b011adfa3",
            "6fad88a420994f00adedd922d6cc8b23",
            "bfa86f37cebe48978cfd7cdbcf27e338",
            "69fa8d5a4e43410bb4343816b1ef5505"
          ]
        },
        "id": "DFooq72gGHyd",
        "outputId": "bda0ef09-d150-448b-89d9-43d4e26670f1"
      },
      "execution_count": null,
      "outputs": [
        {
          "output_type": "stream",
          "name": "stderr",
          "text": [
            "Cloning https://huggingface.co/Prasi21/Strep-Throat-Classification-Swin_T into local empty directory.\n",
            "WARNING:huggingface_hub.repository:Cloning https://huggingface.co/Prasi21/Strep-Throat-Classification-Swin_T into local empty directory.\n"
          ]
        },
        {
          "output_type": "display_data",
          "data": {
            "text/plain": [
              "Upload file strep_model.pth:   0%|          | 1.00/105M [00:00<?, ?B/s]"
            ],
            "application/vnd.jupyter.widget-view+json": {
              "version_major": 2,
              "version_minor": 0,
              "model_id": "b6fdd4691fb04e5cac47dddbd6bb2ae6"
            }
          },
          "metadata": {}
        },
        {
          "output_type": "stream",
          "name": "stderr",
          "text": [
            "To https://huggingface.co/Prasi21/Strep-Throat-Classification-Swin_T\n",
            "   19b0f8c..0202f45  main -> main\n",
            "\n",
            "WARNING:huggingface_hub.repository:To https://huggingface.co/Prasi21/Strep-Throat-Classification-Swin_T\n",
            "   19b0f8c..0202f45  main -> main\n",
            "\n"
          ]
        },
        {
          "output_type": "execute_result",
          "data": {
            "text/plain": [
              "'https://huggingface.co/Prasi21/Strep-Throat-Classification-Swin_T/commit/0202f453a54c2a93a7b87029bef4926966bc7222'"
            ],
            "application/vnd.google.colaboratory.intrinsic+json": {
              "type": "string"
            }
          },
          "metadata": {},
          "execution_count": 29
        }
      ]
    },
    {
      "cell_type": "code",
      "source": [
        "from huggingface_hub import hf_hub_download\n",
        "model_path = hf_hub_download(repo_id=\"Prasi21/Strep-Throat-Classification-Swin_T\", filename=\"strep_model.pth\")\n",
        "model2.load_state_dict(torch.load(model_path))\n"
      ],
      "metadata": {
        "colab": {
          "base_uri": "https://localhost:8080/"
        },
        "id": "CZ3d-TtGGTt9",
        "outputId": "a81c1ef7-2731-42be-9099-988073135631"
      },
      "execution_count": null,
      "outputs": [
        {
          "output_type": "execute_result",
          "data": {
            "text/plain": [
              "<All keys matched successfully>"
            ]
          },
          "metadata": {},
          "execution_count": 35
        }
      ]
    },
    {
      "cell_type": "code",
      "source": [
        "for images, labels in test_dl:\n",
        "    # Use the first image in the batch\n",
        "    image = images[0].unsqueeze(0).to(device)  # Add batch dimension\n",
        "    break\n",
        "\n",
        "model.eval()\n",
        "with torch.no_grad():\n",
        "    output = model(image)\n",
        "    print(output)\n",
        "\n"
      ],
      "metadata": {
        "colab": {
          "base_uri": "https://localhost:8080/"
        },
        "id": "32qbiIWyKBm8",
        "outputId": "96764816-dfbc-4a56-eb88-dc2b201d594d"
      },
      "execution_count": null,
      "outputs": [
        {
          "output_type": "stream",
          "name": "stdout",
          "text": [
            "tensor([[0.1731]], device='cuda:0')\n"
          ]
        }
      ]
    },
    {
      "cell_type": "code",
      "source": [
        "# Load model from hugging face\n",
        "from transformers import AutoModelForImageClassification, AutoFeatureExtractor\n",
        "\n",
        "model = AutoModelForImageClassification.from_pretrained(\"Prasi21/Strep-Throat-Classification-Swin_T\")"
      ],
      "metadata": {
        "id": "jO2O6wsiFAS_"
      },
      "execution_count": null,
      "outputs": []
    },
    {
      "cell_type": "code",
      "source": [
        "optimizer = optim.Adam(model.parameters(), lr=0.0001)\n",
        "loss_func = nn.BCEWithLogitsLoss()\n",
        "\n",
        "for step, (images, labels) in enumerate(train_dl):\n",
        "    images = images.to(device)\n",
        "    labels = labels.to(device)\n",
        "\n",
        "    model.train()\n",
        "    optimizer.zero_grad()\n",
        "    outputs = model(images)\n",
        "    print(f\"Outputs: {outputs}\")\n",
        "    loss = loss_func(outputs, labels.unsqueeze(1).float())\n",
        "    print(f\"Loss: {loss}\")\n",
        "\n",
        "\n",
        "    print(f\"Loss requires_grad: {loss.requires_grad}\")\n",
        "    loss.backward()\n",
        "    optimizer.step()\n",
        "\n",
        "\n",
        "    outputs = model(images)\n",
        "    print(f\"Model outputs shape: {outputs.shape}\")\n",
        "    print(f\"Labels shape: {labels.shape}\")\n",
        "    break\n"
      ],
      "metadata": {
        "id": "sjdeT9w7H5NL"
      },
      "execution_count": null,
      "outputs": []
    },
    {
      "cell_type": "markdown",
      "metadata": {
        "id": "YlTmpJgC1uHN"
      },
      "source": [
        "## Run Multiple Experiments"
      ]
    },
    {
      "cell_type": "code",
      "execution_count": null,
      "metadata": {
        "id": "RNJ3AAxmrlDE"
      },
      "outputs": [],
      "source": [
        "\n",
        "##!!! CHECK EPOCHS\n",
        "\n",
        "def run_experiment(name, run_name=None, image_size=(256,256)):\n",
        "    run = wandb.init(\n",
        "          # Set the project where this run will be logged\n",
        "          project=\"Strep_Benchmark\",\n",
        "          # We pass a run name (otherwise it’ll be randomly assigned, like sunshine-lollypop-10)\n",
        "          name=run_name,\n",
        "          # Track hyperparameters and run metadata\n",
        "\n",
        "          config={\n",
        "          \"IMAGE_SIZE\": image_size, # change to 224 for vit. Do it for everything?\n",
        "          # \"IMAGE_SIZE\": (256, 256),\n",
        "          \"NUM_CLASSES\": 1,\n",
        "          \"TRANSFER_EPOCHS\": 10,\n",
        "          \"NUM_EPOCHS\": 40,\n",
        "          \"BATCH_SIZE\": 64,\n",
        "          \"transfer_base_lr\": 0.0001,\n",
        "          \"transfer_max_lr\": 0.001,\n",
        "          \"train_base_lr\": 0.0001,\n",
        "          \"train_max_lr\": 0.001,\n",
        "          \"step_size\": 4,\n",
        "          \"model\": name,\n",
        "          })\n",
        "\n",
        "    run.define_metric(\"epoch\", hidden=True) # don't create a plot for \"epoch\"\n",
        "\n",
        "    config = wandb.config\n",
        "    BATCH_SIZE = config.BATCH_SIZE\n",
        "    data_transforms = transforms.Compose([\n",
        "        transforms.Resize(config.IMAGE_SIZE),\n",
        "        transforms.ToTensor(),\n",
        "        transforms.Normalize(mean=[0.485, 0.456, 0.406], std=[0.229, 0.224, 0.225])\n",
        "    ])\n",
        "\n",
        "    model = get_model(name)\n",
        "\n",
        "    train_dl = get_train_dataloader(config.BATCH_SIZE, data_transforms, frac=1)\n",
        "    val_dl = get_val_dataloader(config.BATCH_SIZE, data_transforms, frac=1)\n",
        "    test_dl = get_test_dataloader(config.BATCH_SIZE, data_transforms)\n",
        "\n",
        "    wandb.config[\"num_iterations\"] = len(train_dl)\n",
        "    wandb.config[\"num_parameters\"] = sum(p.numel() for p in model.parameters())\n",
        "    config = wandb.config\n",
        "\n",
        "\n",
        "    # finetune_pretrained(model, config, train_dl, val_dl=val_dl, transfer=True)\n",
        "\n",
        "    # loss_func = nn.BCEWithLogitsLoss()\n",
        "    validate_model(model, test_dl, loss_func, log_graphs=True, log_images=True, batch_idx=0, tag=\"test\")\n",
        "    measure_inference_time(model, test_dl, log_metrics=True)\n",
        "    wandb.finish()"
      ]
    },
    {
      "cell_type": "code",
      "execution_count": null,
      "metadata": {
        "id": "U0Ee0a-e2TXf",
        "colab": {
          "base_uri": "https://localhost:8080/",
          "height": 1000
        },
        "outputId": "a3c1f95e-febd-40da-c6a0-b5000ec76262"
      },
      "outputs": [
        {
          "output_type": "stream",
          "name": "stdout",
          "text": [
            "['vgg_19_bn']\n"
          ]
        },
        {
          "output_type": "display_data",
          "data": {
            "text/plain": [
              "<IPython.core.display.HTML object>"
            ],
            "text/html": [
              "Tracking run with wandb version 0.17.7"
            ]
          },
          "metadata": {}
        },
        {
          "output_type": "display_data",
          "data": {
            "text/plain": [
              "<IPython.core.display.HTML object>"
            ],
            "text/html": [
              "Run data is saved locally in <code>/content/wandb/run-20240819_071130-ukyjid96</code>"
            ]
          },
          "metadata": {}
        },
        {
          "output_type": "display_data",
          "data": {
            "text/plain": [
              "<IPython.core.display.HTML object>"
            ],
            "text/html": [
              "Syncing run <strong><a href='https://wandb.ai/prasi21/Strep_Benchmark/runs/ukyjid96' target=\"_blank\">vgg_19_bn</a></strong> to <a href='https://wandb.ai/prasi21/Strep_Benchmark' target=\"_blank\">Weights & Biases</a> (<a href='https://wandb.me/run' target=\"_blank\">docs</a>)<br/>"
            ]
          },
          "metadata": {}
        },
        {
          "output_type": "display_data",
          "data": {
            "text/plain": [
              "<IPython.core.display.HTML object>"
            ],
            "text/html": [
              " View project at <a href='https://wandb.ai/prasi21/Strep_Benchmark' target=\"_blank\">https://wandb.ai/prasi21/Strep_Benchmark</a>"
            ]
          },
          "metadata": {}
        },
        {
          "output_type": "display_data",
          "data": {
            "text/plain": [
              "<IPython.core.display.HTML object>"
            ],
            "text/html": [
              " View run at <a href='https://wandb.ai/prasi21/Strep_Benchmark/runs/ukyjid96' target=\"_blank\">https://wandb.ai/prasi21/Strep_Benchmark/runs/ukyjid96</a>"
            ]
          },
          "metadata": {}
        },
        {
          "output_type": "stream",
          "name": "stdout",
          "text": [
            "Loaded vgg_19_bn\n"
          ]
        },
        {
          "output_type": "stream",
          "name": "stderr",
          "text": [
            "Downloading: \"https://download.pytorch.org/models/vgg19_bn-c79401a0.pth\" to /root/.cache/torch/hub/checkpoints/vgg19_bn-c79401a0.pth\n",
            "100%|██████████| 548M/548M [00:07<00:00, 74.9MB/s]\n"
          ]
        },
        {
          "output_type": "stream",
          "name": "stdout",
          "text": [
            "2450 train images loaded\n",
            "550 validation images loaded\n",
            "Counter({'Class0': 1, 'Class1': 1})\n",
            "55 test images loaded\n",
            "##### Transfer Learning Stage #####\n"
          ]
        },
        {
          "output_type": "stream",
          "name": "stderr",
          "text": [
            "100%|██████████| 39/39 [00:54<00:00,  1.39s/it]\n"
          ]
        },
        {
          "output_type": "stream",
          "name": "stdout",
          "text": [
            "Epoch 1/10, train_loss: 0.415, train_acc: 0.807, val_loss: 0.488, val_acc: 0.776\n"
          ]
        },
        {
          "output_type": "stream",
          "name": "stderr",
          "text": [
            "100%|██████████| 39/39 [00:35<00:00,  1.11it/s]\n"
          ]
        },
        {
          "output_type": "stream",
          "name": "stdout",
          "text": [
            "Epoch 2/10, train_loss: 0.153, train_acc: 0.942, val_loss: 0.610, val_acc: 0.802\n"
          ]
        },
        {
          "output_type": "stream",
          "name": "stderr",
          "text": [
            "100%|██████████| 39/39 [00:35<00:00,  1.11it/s]\n"
          ]
        },
        {
          "output_type": "stream",
          "name": "stdout",
          "text": [
            "Epoch 3/10, train_loss: 0.107, train_acc: 0.961, val_loss: 2.856, val_acc: 0.516\n"
          ]
        },
        {
          "output_type": "stream",
          "name": "stderr",
          "text": [
            "100%|██████████| 39/39 [00:35<00:00,  1.11it/s]\n"
          ]
        },
        {
          "output_type": "stream",
          "name": "stdout",
          "text": [
            "Epoch 4/10, train_loss: 0.187, train_acc: 0.934, val_loss: 0.740, val_acc: 0.787\n"
          ]
        },
        {
          "output_type": "stream",
          "name": "stderr",
          "text": [
            "100%|██████████| 39/39 [00:35<00:00,  1.11it/s]\n"
          ]
        },
        {
          "output_type": "stream",
          "name": "stdout",
          "text": [
            "Epoch 5/10, train_loss: 0.052, train_acc: 0.982, val_loss: 1.411, val_acc: 0.760\n"
          ]
        },
        {
          "output_type": "stream",
          "name": "stderr",
          "text": [
            "100%|██████████| 39/39 [00:35<00:00,  1.10it/s]\n"
          ]
        },
        {
          "output_type": "stream",
          "name": "stdout",
          "text": [
            "Epoch 6/10, train_loss: 0.011, train_acc: 0.996, val_loss: 1.327, val_acc: 0.784\n"
          ]
        },
        {
          "output_type": "stream",
          "name": "stderr",
          "text": [
            "100%|██████████| 39/39 [00:35<00:00,  1.10it/s]\n"
          ]
        },
        {
          "output_type": "stream",
          "name": "stdout",
          "text": [
            "Epoch 7/10, train_loss: 0.002, train_acc: 1.000, val_loss: 1.363, val_acc: 0.795\n"
          ]
        },
        {
          "output_type": "stream",
          "name": "stderr",
          "text": [
            "100%|██████████| 39/39 [00:35<00:00,  1.09it/s]\n"
          ]
        },
        {
          "output_type": "stream",
          "name": "stdout",
          "text": [
            "Epoch 8/10, train_loss: 0.002, train_acc: 1.000, val_loss: 1.613, val_acc: 0.778\n"
          ]
        },
        {
          "output_type": "stream",
          "name": "stderr",
          "text": [
            "100%|██████████| 39/39 [00:35<00:00,  1.10it/s]\n"
          ]
        },
        {
          "output_type": "stream",
          "name": "stdout",
          "text": [
            "Epoch 9/10, train_loss: 0.002, train_acc: 0.999, val_loss: 1.757, val_acc: 0.778\n"
          ]
        },
        {
          "output_type": "stream",
          "name": "stderr",
          "text": [
            "100%|██████████| 39/39 [00:35<00:00,  1.11it/s]\n"
          ]
        },
        {
          "output_type": "stream",
          "name": "stdout",
          "text": [
            "Epoch 10/10, train_loss: 0.001, train_acc: 1.000, val_loss: 1.842, val_acc: 0.780\n",
            "##### Fine Tuning Stage #####\n"
          ]
        },
        {
          "output_type": "stream",
          "name": "stderr",
          "text": [
            "100%|██████████| 39/39 [01:23<00:00,  2.15s/it]\n"
          ]
        },
        {
          "output_type": "stream",
          "name": "stdout",
          "text": [
            "Epoch 11/50, train_loss: 0.038, train_acc: 0.991, val_loss: 2.014, val_acc: 0.818\n"
          ]
        },
        {
          "output_type": "stream",
          "name": "stderr",
          "text": [
            "100%|██████████| 39/39 [01:24<00:00,  2.16s/it]\n"
          ]
        },
        {
          "output_type": "stream",
          "name": "stdout",
          "text": [
            "Epoch 12/50, train_loss: 0.032, train_acc: 0.991, val_loss: 1.264, val_acc: 0.878\n"
          ]
        },
        {
          "output_type": "stream",
          "name": "stderr",
          "text": [
            "100%|██████████| 39/39 [01:24<00:00,  2.16s/it]\n"
          ]
        },
        {
          "output_type": "stream",
          "name": "stdout",
          "text": [
            "Epoch 13/50, train_loss: 0.007, train_acc: 0.998, val_loss: 1.129, val_acc: 0.864\n"
          ]
        },
        {
          "output_type": "stream",
          "name": "stderr",
          "text": [
            " 72%|███████▏  | 28/39 [01:02<00:24,  2.22s/it]\n"
          ]
        },
        {
          "output_type": "error",
          "ename": "KeyboardInterrupt",
          "evalue": "",
          "traceback": [
            "\u001b[0;31m---------------------------------------------------------------------------\u001b[0m",
            "\u001b[0;31mKeyboardInterrupt\u001b[0m                         Traceback (most recent call last)",
            "\u001b[0;32m<ipython-input-14-50314d8205e2>\u001b[0m in \u001b[0;36m<cell line: 16>\u001b[0;34m()\u001b[0m\n\u001b[1;32m     22\u001b[0m         \u001b[0mimage_size\u001b[0m \u001b[0;34m=\u001b[0m \u001b[0;34m(\u001b[0m\u001b[0;36m256\u001b[0m\u001b[0;34m,\u001b[0m \u001b[0;36m256\u001b[0m\u001b[0;34m)\u001b[0m\u001b[0;34m\u001b[0m\u001b[0;34m\u001b[0m\u001b[0m\n\u001b[1;32m     23\u001b[0m \u001b[0;34m\u001b[0m\u001b[0m\n\u001b[0;32m---> 24\u001b[0;31m     \u001b[0mrun_experiment\u001b[0m\u001b[0;34m(\u001b[0m\u001b[0mname\u001b[0m\u001b[0;34m,\u001b[0m \u001b[0mrun_name\u001b[0m\u001b[0;34m=\u001b[0m\u001b[0mname\u001b[0m\u001b[0;34m,\u001b[0m \u001b[0mimage_size\u001b[0m\u001b[0;34m=\u001b[0m\u001b[0mimage_size\u001b[0m\u001b[0;34m)\u001b[0m\u001b[0;34m\u001b[0m\u001b[0;34m\u001b[0m\u001b[0m\n\u001b[0m",
            "\u001b[0;32m<ipython-input-13-5941874721d2>\u001b[0m in \u001b[0;36mrun_experiment\u001b[0;34m(name, run_name, image_size)\u001b[0m\n\u001b[1;32m     45\u001b[0m \u001b[0;34m\u001b[0m\u001b[0m\n\u001b[1;32m     46\u001b[0m \u001b[0;34m\u001b[0m\u001b[0m\n\u001b[0;32m---> 47\u001b[0;31m     \u001b[0mfinetune_pretrained\u001b[0m\u001b[0;34m(\u001b[0m\u001b[0mmodel\u001b[0m\u001b[0;34m,\u001b[0m \u001b[0mconfig\u001b[0m\u001b[0;34m,\u001b[0m \u001b[0mtrain_dl\u001b[0m\u001b[0;34m,\u001b[0m \u001b[0mval_dl\u001b[0m\u001b[0;34m=\u001b[0m\u001b[0mval_dl\u001b[0m\u001b[0;34m,\u001b[0m \u001b[0mtransfer\u001b[0m\u001b[0;34m=\u001b[0m\u001b[0;32mTrue\u001b[0m\u001b[0;34m)\u001b[0m\u001b[0;34m\u001b[0m\u001b[0;34m\u001b[0m\u001b[0m\n\u001b[0m\u001b[1;32m     48\u001b[0m \u001b[0;34m\u001b[0m\u001b[0m\n\u001b[1;32m     49\u001b[0m     \u001b[0mloss_func\u001b[0m \u001b[0;34m=\u001b[0m \u001b[0mnn\u001b[0m\u001b[0;34m.\u001b[0m\u001b[0mBCEWithLogitsLoss\u001b[0m\u001b[0;34m(\u001b[0m\u001b[0;34m)\u001b[0m\u001b[0;34m\u001b[0m\u001b[0;34m\u001b[0m\u001b[0m\n",
            "\u001b[0;32m<ipython-input-10-6836c3156dd7>\u001b[0m in \u001b[0;36mfinetune_pretrained\u001b[0;34m(base_model, config, train_dl, val_dl, transfer, out_dir)\u001b[0m\n\u001b[1;32m     58\u001b[0m     \u001b[0mt_epochs\u001b[0m \u001b[0;34m=\u001b[0m \u001b[0mstart_epoch\u001b[0m\u001b[0;34m+\u001b[0m\u001b[0mconfig\u001b[0m\u001b[0;34m.\u001b[0m\u001b[0mNUM_EPOCHS\u001b[0m\u001b[0;34m\u001b[0m\u001b[0;34m\u001b[0m\u001b[0m\n\u001b[1;32m     59\u001b[0m     \u001b[0;32mfor\u001b[0m \u001b[0mepoch\u001b[0m \u001b[0;32min\u001b[0m \u001b[0mrange\u001b[0m\u001b[0;34m(\u001b[0m\u001b[0mstart_epoch\u001b[0m\u001b[0;34m,\u001b[0m \u001b[0mt_epochs\u001b[0m\u001b[0;34m)\u001b[0m\u001b[0;34m:\u001b[0m\u001b[0;34m\u001b[0m\u001b[0;34m\u001b[0m\u001b[0m\n\u001b[0;32m---> 60\u001b[0;31m         \u001b[0mmetrics\u001b[0m \u001b[0;34m=\u001b[0m \u001b[0mtrain_step\u001b[0m\u001b[0;34m(\u001b[0m\u001b[0mbase_model\u001b[0m\u001b[0;34m,\u001b[0m \u001b[0moptimizer\u001b[0m\u001b[0;34m,\u001b[0m \u001b[0mloss_func\u001b[0m\u001b[0;34m,\u001b[0m \u001b[0mtrain_dl\u001b[0m\u001b[0;34m,\u001b[0m \u001b[0mepoch\u001b[0m\u001b[0;34m,\u001b[0m \u001b[0mscheduler\u001b[0m\u001b[0;34m=\u001b[0m\u001b[0mscheduler\u001b[0m\u001b[0;34m,\u001b[0m \u001b[0mlog_metrics\u001b[0m\u001b[0;34m=\u001b[0m\u001b[0;32mTrue\u001b[0m\u001b[0;34m)\u001b[0m\u001b[0;34m\u001b[0m\u001b[0;34m\u001b[0m\u001b[0m\n\u001b[0m\u001b[1;32m     61\u001b[0m         \u001b[0;32mif\u001b[0m \u001b[0mval_dl\u001b[0m\u001b[0;34m:\u001b[0m\u001b[0;34m\u001b[0m\u001b[0;34m\u001b[0m\u001b[0m\n\u001b[1;32m     62\u001b[0m             \u001b[0mval_metrics\u001b[0m \u001b[0;34m=\u001b[0m \u001b[0mvalidate_model\u001b[0m\u001b[0;34m(\u001b[0m\u001b[0mbase_model\u001b[0m\u001b[0;34m,\u001b[0m \u001b[0mval_dl\u001b[0m\u001b[0;34m,\u001b[0m \u001b[0mloss_func\u001b[0m\u001b[0;34m,\u001b[0m \u001b[0mlog_graphs\u001b[0m\u001b[0;34m=\u001b[0m\u001b[0;32mFalse\u001b[0m\u001b[0;34m,\u001b[0m \u001b[0mlog_images\u001b[0m\u001b[0;34m=\u001b[0m\u001b[0;32mFalse\u001b[0m\u001b[0;34m,\u001b[0m \u001b[0mbatch_idx\u001b[0m\u001b[0;34m=\u001b[0m\u001b[0;36m0\u001b[0m\u001b[0;34m,\u001b[0m \u001b[0mtag\u001b[0m\u001b[0;34m=\u001b[0m\u001b[0;34m\"val\"\u001b[0m\u001b[0;34m)\u001b[0m\u001b[0;34m\u001b[0m\u001b[0;34m\u001b[0m\u001b[0m\n",
            "\u001b[0;32m<ipython-input-9-f599ed5cd4a3>\u001b[0m in \u001b[0;36mtrain_step\u001b[0;34m(model, optimizer, loss_func, dl, epoch, scheduler, log_metrics)\u001b[0m\n\u001b[1;32m     20\u001b[0m         \u001b[0mprobs\u001b[0m \u001b[0;34m=\u001b[0m \u001b[0mtorch\u001b[0m\u001b[0;34m.\u001b[0m\u001b[0msigmoid\u001b[0m\u001b[0;34m(\u001b[0m\u001b[0moutputs\u001b[0m\u001b[0;34m)\u001b[0m\u001b[0;34m\u001b[0m\u001b[0;34m\u001b[0m\u001b[0m\n\u001b[1;32m     21\u001b[0m         \u001b[0mpreds\u001b[0m \u001b[0;34m=\u001b[0m \u001b[0;34m(\u001b[0m\u001b[0mprobs\u001b[0m \u001b[0;34m>\u001b[0m \u001b[0;36m0.5\u001b[0m\u001b[0;34m)\u001b[0m\u001b[0;34m.\u001b[0m\u001b[0mfloat\u001b[0m\u001b[0;34m(\u001b[0m\u001b[0;34m)\u001b[0m  \u001b[0;31m# Binarize predictions based on threshold 0.5\u001b[0m\u001b[0;34m\u001b[0m\u001b[0;34m\u001b[0m\u001b[0m\n\u001b[0;32m---> 22\u001b[0;31m         \u001b[0mcorrect\u001b[0m \u001b[0;34m+=\u001b[0m \u001b[0;34m(\u001b[0m\u001b[0mpreds\u001b[0m\u001b[0;34m.\u001b[0m\u001b[0msqueeze\u001b[0m\u001b[0;34m(\u001b[0m\u001b[0;34m)\u001b[0m \u001b[0;34m==\u001b[0m \u001b[0mlabels\u001b[0m\u001b[0;34m)\u001b[0m\u001b[0;34m.\u001b[0m\u001b[0msum\u001b[0m\u001b[0;34m(\u001b[0m\u001b[0;34m)\u001b[0m\u001b[0;34m.\u001b[0m\u001b[0mitem\u001b[0m\u001b[0;34m(\u001b[0m\u001b[0;34m)\u001b[0m\u001b[0;34m\u001b[0m\u001b[0;34m\u001b[0m\u001b[0m\n\u001b[0m\u001b[1;32m     23\u001b[0m \u001b[0;34m\u001b[0m\u001b[0m\n\u001b[1;32m     24\u001b[0m         \u001b[0mtrain_loss\u001b[0m\u001b[0;34m.\u001b[0m\u001b[0mbackward\u001b[0m\u001b[0;34m(\u001b[0m\u001b[0;34m)\u001b[0m\u001b[0;34m\u001b[0m\u001b[0;34m\u001b[0m\u001b[0m\n",
            "\u001b[0;31mKeyboardInterrupt\u001b[0m: "
          ]
        }
      ],
      "source": [
        "completed_model_list = [\"vgg_16\", \"swin_t\", \"swin_b\", \"mobilenet_v2\", \"resnet_50\", \"vit_b_16\"]\n",
        "all_model_list = [\n",
        "    \"vit_b_16\", \"vit_l_16\",  # From get_ViT_model\n",
        "    \"swin_t\", \"swin_b\", \"swin_l\",        # From get_Swin_model\n",
        "    \"mobilenet_v2\", \"mobilenet_v3_s\", \"mobilenet_v3_l\",  # From get_MobileNet_model\n",
        "    \"resnet_50\", \"resnet_34\", \"resnet_101\",  # From get_ResNet_model\n",
        "    \"inception_v3\",  # From get_Inception_model\n",
        "    \"vgg_16\", \"vgg_19_bn\", \"vgg_16_bn\", \"vgg_13_bn\",  # From get_VGG_model\n",
        "    # \"efficientnet_b0\", \"efficientnet_b1\"  # From get_EfficientNet_model\n",
        "]\n",
        "\n",
        "model_list = list(set(all_model_list) - set(completed_model_list))\n",
        "model_list = [\"vgg_19_bn\"]\n",
        "print(model_list)\n",
        "\n",
        "for name in model_list:\n",
        "    if name.split(\"_\")[0] == \"vit\":\n",
        "        image_size = (224,224)\n",
        "    elif name.split(\"_\")[0] == \"inception\":\n",
        "        image_size = (299, 299)\n",
        "    else:\n",
        "        image_size = (256, 256)\n",
        "\n",
        "    run_experiment(name, run_name=name, image_size=image_size)\n"
      ]
    },
    {
      "cell_type": "code",
      "execution_count": null,
      "metadata": {
        "id": "x7wvakH24fnp"
      },
      "outputs": [],
      "source": [
        "# model_list = [\"\"]\n",
        "for name in model_list:\n",
        "    if name.split(\"_\")[0] == \"vit\":\n",
        "        image_size = (224,224)\n",
        "    elif name.split(\"_\")[0] == \"inception\":\n",
        "        image_size = (299, 299)\n",
        "    else:\n",
        "        image_size = (256, 256)\n",
        "\n",
        "\n",
        "    data_transforms = transforms.Compose([\n",
        "        transforms.Resize(image_size),\n",
        "        transforms.ToTensor(),\n",
        "        transforms.Normalize(mean=[0.485, 0.456, 0.406], std=[0.229, 0.224, 0.225])\n",
        "    ])\n",
        "\n",
        "    print(name)\n",
        "    model = get_model(name)\n",
        "\n",
        "    test_dl = get_test_dataloader(64, data_transforms)\n",
        "    measure_inference_time(model, test_dl, log_metrics=False)"
      ]
    },
    {
      "cell_type": "code",
      "execution_count": null,
      "metadata": {
        "colab": {
          "base_uri": "https://localhost:8080/"
        },
        "id": "3FtEGm0kwgBg",
        "outputId": "468e9a06-88b8-4bf7-8493-1013b7351fe2"
      },
      "outputs": [
        {
          "name": "stdout",
          "output_type": "stream",
          "text": [
            "Logging info into a table to WandB\n"
          ]
        },
        {
          "name": "stderr",
          "output_type": "stream",
          "text": [
            "/usr/local/lib/python3.10/dist-packages/plotly/matplotlylib/renderer.py:611: UserWarning:\n",
            "\n",
            "I found a path object that I don't think is part of a bar chart. Ignoring.\n",
            "\n"
          ]
        },
        {
          "data": {
            "text/plain": [
              "{'val_loss': tensor(0.1755, device='cuda:0'),\n",
              " 'val_accuracy': 0.9818181818181818,\n",
              " 'val_AUC': 1.0,\n",
              " 'val_F1_score': 0.9818939130983559,\n",
              " 'val_sensitivity': 0.9705882352941176,\n",
              " 'val_specificity': 1.0}"
            ]
          },
          "execution_count": 35,
          "metadata": {},
          "output_type": "execute_result"
        }
      ],
      "source": [
        "validate_model(model, test_dl, loss_func, log_graphs=True, log_images=True, batch_idx=0, tag=\"val\")"
      ]
    },
    {
      "cell_type": "code",
      "execution_count": null,
      "metadata": {
        "colab": {
          "base_uri": "https://localhost:8080/"
        },
        "id": "w1pnDf2LYF-N",
        "outputId": "e0b11292-ac26-44a2-c99e-7dd83d8fff4b"
      },
      "outputs": [
        {
          "name": "stdout",
          "output_type": "stream",
          "text": [
            "Logging info into a table to WandB\n"
          ]
        },
        {
          "name": "stderr",
          "output_type": "stream",
          "text": [
            "/usr/local/lib/python3.10/dist-packages/plotly/matplotlylib/renderer.py:611: UserWarning:\n",
            "\n",
            "I found a path object that I don't think is part of a bar chart. Ignoring.\n",
            "\n"
          ]
        },
        {
          "data": {
            "text/plain": [
              "{'test_loss': tensor(0.1755, device='cuda:0'),\n",
              " 'test_accuracy': 0.9818181818181818,\n",
              " 'test_AUC': 1.0,\n",
              " 'test_F1_score': 0.9818939130983559,\n",
              " 'test_sensitivity': 0.9705882352941176,\n",
              " 'test_specificity': 1.0}"
            ]
          },
          "execution_count": 37,
          "metadata": {},
          "output_type": "execute_result"
        }
      ],
      "source": [
        "# loss_func = nn.BCEWithLogitsLoss()\n",
        "# test_dl = get_test_dataloader(config.BATCH_SIZE)\n",
        "validate_model(model, test_dl, loss_func, log_graphs=True, log_images=True, batch_idx=0, tag=\"test\")"
      ]
    },
    {
      "cell_type": "code",
      "execution_count": null,
      "metadata": {
        "id": "gmXczJyrcKwu"
      },
      "outputs": [],
      "source": [
        "!nvidia-smi"
      ]
    },
    {
      "cell_type": "code",
      "execution_count": null,
      "metadata": {
        "id": "foZFL7K1cKru"
      },
      "outputs": [],
      "source": [
        "# Buffer this cell to run after running experiment to end runtime and save compute units automatically\n",
        "from google.colab import runtime\n",
        "runtime.unassign()"
      ]
    },
    {
      "cell_type": "markdown",
      "metadata": {
        "id": "X5t7RX7WcJHS"
      },
      "source": [
        "## Testing Area"
      ]
    },
    {
      "cell_type": "code",
      "execution_count": null,
      "metadata": {
        "id": "uFl8dQhdVFJ1"
      },
      "outputs": [],
      "source": []
    }
  ],
  "metadata": {
    "colab": {
      "provenance": [],
      "gpuType": "T4",
      "mount_file_id": "1tM6jbKQDpwg79fWvovexGsP14m9WVRyk",
      "authorship_tag": "ABX9TyPhMbLuTaysbWW82Nda8Qox",
      "include_colab_link": true
    },
    "kernelspec": {
      "display_name": "Python 3",
      "name": "python3"
    },
    "language_info": {
      "name": "python"
    },
    "widgets": {
      "application/vnd.jupyter.widget-state+json": {
        "1804418b98dd4553a9701452ee4fd788": {
          "model_module": "@jupyter-widgets/controls",
          "model_name": "VBoxModel",
          "model_module_version": "1.5.0",
          "state": {
            "_dom_classes": [],
            "_model_module": "@jupyter-widgets/controls",
            "_model_module_version": "1.5.0",
            "_model_name": "VBoxModel",
            "_view_count": null,
            "_view_module": "@jupyter-widgets/controls",
            "_view_module_version": "1.5.0",
            "_view_name": "VBoxView",
            "box_style": "",
            "children": [
              "IPY_MODEL_759df1eb64a1422597a83682356312ed",
              "IPY_MODEL_a061c08737124b9cba204761a90e4580",
              "IPY_MODEL_8da78a58427d4a0dafcd7eee7beb7050",
              "IPY_MODEL_1150178e41274d23969e1e841fee72f5"
            ],
            "layout": "IPY_MODEL_7c7be4001ff84dc09fac0ae97bdb8ab6"
          }
        },
        "518b8b8e16cc4cada1957cac4c7b1885": {
          "model_module": "@jupyter-widgets/controls",
          "model_name": "HTMLModel",
          "model_module_version": "1.5.0",
          "state": {
            "_dom_classes": [],
            "_model_module": "@jupyter-widgets/controls",
            "_model_module_version": "1.5.0",
            "_model_name": "HTMLModel",
            "_view_count": null,
            "_view_module": "@jupyter-widgets/controls",
            "_view_module_version": "1.5.0",
            "_view_name": "HTMLView",
            "description": "",
            "description_tooltip": null,
            "layout": "IPY_MODEL_064c2988213b4d13bdbe59ec9a04c4ef",
            "placeholder": "​",
            "style": "IPY_MODEL_6a70a3f561d4406686cbfc85e81abc1b",
            "value": "<center> <img\nsrc=https://huggingface.co/front/assets/huggingface_logo-noborder.svg\nalt='Hugging Face'> <br> Copy a token from <a\nhref=\"https://huggingface.co/settings/tokens\" target=\"_blank\">your Hugging Face\ntokens page</a> and paste it below. <br> Immediately click login after copying\nyour token or it might be stored in plain text in this notebook file. </center>"
          }
        },
        "2672c736d0764088bd3985f55c7d7f8b": {
          "model_module": "@jupyter-widgets/controls",
          "model_name": "PasswordModel",
          "model_module_version": "1.5.0",
          "state": {
            "_dom_classes": [],
            "_model_module": "@jupyter-widgets/controls",
            "_model_module_version": "1.5.0",
            "_model_name": "PasswordModel",
            "_view_count": null,
            "_view_module": "@jupyter-widgets/controls",
            "_view_module_version": "1.5.0",
            "_view_name": "PasswordView",
            "continuous_update": true,
            "description": "Token:",
            "description_tooltip": null,
            "disabled": false,
            "layout": "IPY_MODEL_7f1c4e890283441ea42a1a846ee26f16",
            "placeholder": "​",
            "style": "IPY_MODEL_bdda6d63005e494f896ddb00021cbbbd",
            "value": ""
          }
        },
        "f88d02ed967a4a58bcc7122863f3b395": {
          "model_module": "@jupyter-widgets/controls",
          "model_name": "CheckboxModel",
          "model_module_version": "1.5.0",
          "state": {
            "_dom_classes": [],
            "_model_module": "@jupyter-widgets/controls",
            "_model_module_version": "1.5.0",
            "_model_name": "CheckboxModel",
            "_view_count": null,
            "_view_module": "@jupyter-widgets/controls",
            "_view_module_version": "1.5.0",
            "_view_name": "CheckboxView",
            "description": "Add token as git credential?",
            "description_tooltip": null,
            "disabled": false,
            "indent": true,
            "layout": "IPY_MODEL_233194a9a1a149f5bc9f8c5f996f5503",
            "style": "IPY_MODEL_9159e2b68d9e4cb3a3c5a274dbbd84f9",
            "value": true
          }
        },
        "1bd46a8c344b4b1cac7f2d3708f3bbd5": {
          "model_module": "@jupyter-widgets/controls",
          "model_name": "ButtonModel",
          "model_module_version": "1.5.0",
          "state": {
            "_dom_classes": [],
            "_model_module": "@jupyter-widgets/controls",
            "_model_module_version": "1.5.0",
            "_model_name": "ButtonModel",
            "_view_count": null,
            "_view_module": "@jupyter-widgets/controls",
            "_view_module_version": "1.5.0",
            "_view_name": "ButtonView",
            "button_style": "",
            "description": "Login",
            "disabled": false,
            "icon": "",
            "layout": "IPY_MODEL_61b6c8b548ad40e09f5fed8919b8b1bc",
            "style": "IPY_MODEL_d4369ca019634d589c4b6ce9e1a20221",
            "tooltip": ""
          }
        },
        "d37332db555b4134a8573f1ff479673e": {
          "model_module": "@jupyter-widgets/controls",
          "model_name": "HTMLModel",
          "model_module_version": "1.5.0",
          "state": {
            "_dom_classes": [],
            "_model_module": "@jupyter-widgets/controls",
            "_model_module_version": "1.5.0",
            "_model_name": "HTMLModel",
            "_view_count": null,
            "_view_module": "@jupyter-widgets/controls",
            "_view_module_version": "1.5.0",
            "_view_name": "HTMLView",
            "description": "",
            "description_tooltip": null,
            "layout": "IPY_MODEL_6e74369caba44fb0a3745ff74aa281e0",
            "placeholder": "​",
            "style": "IPY_MODEL_2d34c7d9db7c4204b6cb7538ae024f0e",
            "value": "\n<b>Pro Tip:</b> If you don't already have one, you can create a dedicated\n'notebooks' token with 'write' access, that you can then easily reuse for all\nnotebooks. </center>"
          }
        },
        "7c7be4001ff84dc09fac0ae97bdb8ab6": {
          "model_module": "@jupyter-widgets/base",
          "model_name": "LayoutModel",
          "model_module_version": "1.2.0",
          "state": {
            "_model_module": "@jupyter-widgets/base",
            "_model_module_version": "1.2.0",
            "_model_name": "LayoutModel",
            "_view_count": null,
            "_view_module": "@jupyter-widgets/base",
            "_view_module_version": "1.2.0",
            "_view_name": "LayoutView",
            "align_content": null,
            "align_items": "center",
            "align_self": null,
            "border": null,
            "bottom": null,
            "display": "flex",
            "flex": null,
            "flex_flow": "column",
            "grid_area": null,
            "grid_auto_columns": null,
            "grid_auto_flow": null,
            "grid_auto_rows": null,
            "grid_column": null,
            "grid_gap": null,
            "grid_row": null,
            "grid_template_areas": null,
            "grid_template_columns": null,
            "grid_template_rows": null,
            "height": null,
            "justify_content": null,
            "justify_items": null,
            "left": null,
            "margin": null,
            "max_height": null,
            "max_width": null,
            "min_height": null,
            "min_width": null,
            "object_fit": null,
            "object_position": null,
            "order": null,
            "overflow": null,
            "overflow_x": null,
            "overflow_y": null,
            "padding": null,
            "right": null,
            "top": null,
            "visibility": null,
            "width": "50%"
          }
        },
        "064c2988213b4d13bdbe59ec9a04c4ef": {
          "model_module": "@jupyter-widgets/base",
          "model_name": "LayoutModel",
          "model_module_version": "1.2.0",
          "state": {
            "_model_module": "@jupyter-widgets/base",
            "_model_module_version": "1.2.0",
            "_model_name": "LayoutModel",
            "_view_count": null,
            "_view_module": "@jupyter-widgets/base",
            "_view_module_version": "1.2.0",
            "_view_name": "LayoutView",
            "align_content": null,
            "align_items": null,
            "align_self": null,
            "border": null,
            "bottom": null,
            "display": null,
            "flex": null,
            "flex_flow": null,
            "grid_area": null,
            "grid_auto_columns": null,
            "grid_auto_flow": null,
            "grid_auto_rows": null,
            "grid_column": null,
            "grid_gap": null,
            "grid_row": null,
            "grid_template_areas": null,
            "grid_template_columns": null,
            "grid_template_rows": null,
            "height": null,
            "justify_content": null,
            "justify_items": null,
            "left": null,
            "margin": null,
            "max_height": null,
            "max_width": null,
            "min_height": null,
            "min_width": null,
            "object_fit": null,
            "object_position": null,
            "order": null,
            "overflow": null,
            "overflow_x": null,
            "overflow_y": null,
            "padding": null,
            "right": null,
            "top": null,
            "visibility": null,
            "width": null
          }
        },
        "6a70a3f561d4406686cbfc85e81abc1b": {
          "model_module": "@jupyter-widgets/controls",
          "model_name": "DescriptionStyleModel",
          "model_module_version": "1.5.0",
          "state": {
            "_model_module": "@jupyter-widgets/controls",
            "_model_module_version": "1.5.0",
            "_model_name": "DescriptionStyleModel",
            "_view_count": null,
            "_view_module": "@jupyter-widgets/base",
            "_view_module_version": "1.2.0",
            "_view_name": "StyleView",
            "description_width": ""
          }
        },
        "7f1c4e890283441ea42a1a846ee26f16": {
          "model_module": "@jupyter-widgets/base",
          "model_name": "LayoutModel",
          "model_module_version": "1.2.0",
          "state": {
            "_model_module": "@jupyter-widgets/base",
            "_model_module_version": "1.2.0",
            "_model_name": "LayoutModel",
            "_view_count": null,
            "_view_module": "@jupyter-widgets/base",
            "_view_module_version": "1.2.0",
            "_view_name": "LayoutView",
            "align_content": null,
            "align_items": null,
            "align_self": null,
            "border": null,
            "bottom": null,
            "display": null,
            "flex": null,
            "flex_flow": null,
            "grid_area": null,
            "grid_auto_columns": null,
            "grid_auto_flow": null,
            "grid_auto_rows": null,
            "grid_column": null,
            "grid_gap": null,
            "grid_row": null,
            "grid_template_areas": null,
            "grid_template_columns": null,
            "grid_template_rows": null,
            "height": null,
            "justify_content": null,
            "justify_items": null,
            "left": null,
            "margin": null,
            "max_height": null,
            "max_width": null,
            "min_height": null,
            "min_width": null,
            "object_fit": null,
            "object_position": null,
            "order": null,
            "overflow": null,
            "overflow_x": null,
            "overflow_y": null,
            "padding": null,
            "right": null,
            "top": null,
            "visibility": null,
            "width": null
          }
        },
        "bdda6d63005e494f896ddb00021cbbbd": {
          "model_module": "@jupyter-widgets/controls",
          "model_name": "DescriptionStyleModel",
          "model_module_version": "1.5.0",
          "state": {
            "_model_module": "@jupyter-widgets/controls",
            "_model_module_version": "1.5.0",
            "_model_name": "DescriptionStyleModel",
            "_view_count": null,
            "_view_module": "@jupyter-widgets/base",
            "_view_module_version": "1.2.0",
            "_view_name": "StyleView",
            "description_width": ""
          }
        },
        "233194a9a1a149f5bc9f8c5f996f5503": {
          "model_module": "@jupyter-widgets/base",
          "model_name": "LayoutModel",
          "model_module_version": "1.2.0",
          "state": {
            "_model_module": "@jupyter-widgets/base",
            "_model_module_version": "1.2.0",
            "_model_name": "LayoutModel",
            "_view_count": null,
            "_view_module": "@jupyter-widgets/base",
            "_view_module_version": "1.2.0",
            "_view_name": "LayoutView",
            "align_content": null,
            "align_items": null,
            "align_self": null,
            "border": null,
            "bottom": null,
            "display": null,
            "flex": null,
            "flex_flow": null,
            "grid_area": null,
            "grid_auto_columns": null,
            "grid_auto_flow": null,
            "grid_auto_rows": null,
            "grid_column": null,
            "grid_gap": null,
            "grid_row": null,
            "grid_template_areas": null,
            "grid_template_columns": null,
            "grid_template_rows": null,
            "height": null,
            "justify_content": null,
            "justify_items": null,
            "left": null,
            "margin": null,
            "max_height": null,
            "max_width": null,
            "min_height": null,
            "min_width": null,
            "object_fit": null,
            "object_position": null,
            "order": null,
            "overflow": null,
            "overflow_x": null,
            "overflow_y": null,
            "padding": null,
            "right": null,
            "top": null,
            "visibility": null,
            "width": null
          }
        },
        "9159e2b68d9e4cb3a3c5a274dbbd84f9": {
          "model_module": "@jupyter-widgets/controls",
          "model_name": "DescriptionStyleModel",
          "model_module_version": "1.5.0",
          "state": {
            "_model_module": "@jupyter-widgets/controls",
            "_model_module_version": "1.5.0",
            "_model_name": "DescriptionStyleModel",
            "_view_count": null,
            "_view_module": "@jupyter-widgets/base",
            "_view_module_version": "1.2.0",
            "_view_name": "StyleView",
            "description_width": ""
          }
        },
        "61b6c8b548ad40e09f5fed8919b8b1bc": {
          "model_module": "@jupyter-widgets/base",
          "model_name": "LayoutModel",
          "model_module_version": "1.2.0",
          "state": {
            "_model_module": "@jupyter-widgets/base",
            "_model_module_version": "1.2.0",
            "_model_name": "LayoutModel",
            "_view_count": null,
            "_view_module": "@jupyter-widgets/base",
            "_view_module_version": "1.2.0",
            "_view_name": "LayoutView",
            "align_content": null,
            "align_items": null,
            "align_self": null,
            "border": null,
            "bottom": null,
            "display": null,
            "flex": null,
            "flex_flow": null,
            "grid_area": null,
            "grid_auto_columns": null,
            "grid_auto_flow": null,
            "grid_auto_rows": null,
            "grid_column": null,
            "grid_gap": null,
            "grid_row": null,
            "grid_template_areas": null,
            "grid_template_columns": null,
            "grid_template_rows": null,
            "height": null,
            "justify_content": null,
            "justify_items": null,
            "left": null,
            "margin": null,
            "max_height": null,
            "max_width": null,
            "min_height": null,
            "min_width": null,
            "object_fit": null,
            "object_position": null,
            "order": null,
            "overflow": null,
            "overflow_x": null,
            "overflow_y": null,
            "padding": null,
            "right": null,
            "top": null,
            "visibility": null,
            "width": null
          }
        },
        "d4369ca019634d589c4b6ce9e1a20221": {
          "model_module": "@jupyter-widgets/controls",
          "model_name": "ButtonStyleModel",
          "model_module_version": "1.5.0",
          "state": {
            "_model_module": "@jupyter-widgets/controls",
            "_model_module_version": "1.5.0",
            "_model_name": "ButtonStyleModel",
            "_view_count": null,
            "_view_module": "@jupyter-widgets/base",
            "_view_module_version": "1.2.0",
            "_view_name": "StyleView",
            "button_color": null,
            "font_weight": ""
          }
        },
        "6e74369caba44fb0a3745ff74aa281e0": {
          "model_module": "@jupyter-widgets/base",
          "model_name": "LayoutModel",
          "model_module_version": "1.2.0",
          "state": {
            "_model_module": "@jupyter-widgets/base",
            "_model_module_version": "1.2.0",
            "_model_name": "LayoutModel",
            "_view_count": null,
            "_view_module": "@jupyter-widgets/base",
            "_view_module_version": "1.2.0",
            "_view_name": "LayoutView",
            "align_content": null,
            "align_items": null,
            "align_self": null,
            "border": null,
            "bottom": null,
            "display": null,
            "flex": null,
            "flex_flow": null,
            "grid_area": null,
            "grid_auto_columns": null,
            "grid_auto_flow": null,
            "grid_auto_rows": null,
            "grid_column": null,
            "grid_gap": null,
            "grid_row": null,
            "grid_template_areas": null,
            "grid_template_columns": null,
            "grid_template_rows": null,
            "height": null,
            "justify_content": null,
            "justify_items": null,
            "left": null,
            "margin": null,
            "max_height": null,
            "max_width": null,
            "min_height": null,
            "min_width": null,
            "object_fit": null,
            "object_position": null,
            "order": null,
            "overflow": null,
            "overflow_x": null,
            "overflow_y": null,
            "padding": null,
            "right": null,
            "top": null,
            "visibility": null,
            "width": null
          }
        },
        "2d34c7d9db7c4204b6cb7538ae024f0e": {
          "model_module": "@jupyter-widgets/controls",
          "model_name": "DescriptionStyleModel",
          "model_module_version": "1.5.0",
          "state": {
            "_model_module": "@jupyter-widgets/controls",
            "_model_module_version": "1.5.0",
            "_model_name": "DescriptionStyleModel",
            "_view_count": null,
            "_view_module": "@jupyter-widgets/base",
            "_view_module_version": "1.2.0",
            "_view_name": "StyleView",
            "description_width": ""
          }
        },
        "cc8de721cf4641fcb725e6c0248ca7c6": {
          "model_module": "@jupyter-widgets/controls",
          "model_name": "LabelModel",
          "model_module_version": "1.5.0",
          "state": {
            "_dom_classes": [],
            "_model_module": "@jupyter-widgets/controls",
            "_model_module_version": "1.5.0",
            "_model_name": "LabelModel",
            "_view_count": null,
            "_view_module": "@jupyter-widgets/controls",
            "_view_module_version": "1.5.0",
            "_view_name": "LabelView",
            "description": "",
            "description_tooltip": null,
            "layout": "IPY_MODEL_c4b7c60eafcc45fd92d8304d52ecbf94",
            "placeholder": "​",
            "style": "IPY_MODEL_16c95aca679c42529a65389d8377214c",
            "value": "Connecting..."
          }
        },
        "c4b7c60eafcc45fd92d8304d52ecbf94": {
          "model_module": "@jupyter-widgets/base",
          "model_name": "LayoutModel",
          "model_module_version": "1.2.0",
          "state": {
            "_model_module": "@jupyter-widgets/base",
            "_model_module_version": "1.2.0",
            "_model_name": "LayoutModel",
            "_view_count": null,
            "_view_module": "@jupyter-widgets/base",
            "_view_module_version": "1.2.0",
            "_view_name": "LayoutView",
            "align_content": null,
            "align_items": null,
            "align_self": null,
            "border": null,
            "bottom": null,
            "display": null,
            "flex": null,
            "flex_flow": null,
            "grid_area": null,
            "grid_auto_columns": null,
            "grid_auto_flow": null,
            "grid_auto_rows": null,
            "grid_column": null,
            "grid_gap": null,
            "grid_row": null,
            "grid_template_areas": null,
            "grid_template_columns": null,
            "grid_template_rows": null,
            "height": null,
            "justify_content": null,
            "justify_items": null,
            "left": null,
            "margin": null,
            "max_height": null,
            "max_width": null,
            "min_height": null,
            "min_width": null,
            "object_fit": null,
            "object_position": null,
            "order": null,
            "overflow": null,
            "overflow_x": null,
            "overflow_y": null,
            "padding": null,
            "right": null,
            "top": null,
            "visibility": null,
            "width": null
          }
        },
        "16c95aca679c42529a65389d8377214c": {
          "model_module": "@jupyter-widgets/controls",
          "model_name": "DescriptionStyleModel",
          "model_module_version": "1.5.0",
          "state": {
            "_model_module": "@jupyter-widgets/controls",
            "_model_module_version": "1.5.0",
            "_model_name": "DescriptionStyleModel",
            "_view_count": null,
            "_view_module": "@jupyter-widgets/base",
            "_view_module_version": "1.2.0",
            "_view_name": "StyleView",
            "description_width": ""
          }
        },
        "759df1eb64a1422597a83682356312ed": {
          "model_module": "@jupyter-widgets/controls",
          "model_name": "LabelModel",
          "model_module_version": "1.5.0",
          "state": {
            "_dom_classes": [],
            "_model_module": "@jupyter-widgets/controls",
            "_model_module_version": "1.5.0",
            "_model_name": "LabelModel",
            "_view_count": null,
            "_view_module": "@jupyter-widgets/controls",
            "_view_module_version": "1.5.0",
            "_view_name": "LabelView",
            "description": "",
            "description_tooltip": null,
            "layout": "IPY_MODEL_ae9834e6e5c34d94b4e0e27876728d81",
            "placeholder": "​",
            "style": "IPY_MODEL_5a3cee53df5248efbfa6e6ac55693804",
            "value": "Token is valid (permission: write)."
          }
        },
        "a061c08737124b9cba204761a90e4580": {
          "model_module": "@jupyter-widgets/controls",
          "model_name": "LabelModel",
          "model_module_version": "1.5.0",
          "state": {
            "_dom_classes": [],
            "_model_module": "@jupyter-widgets/controls",
            "_model_module_version": "1.5.0",
            "_model_name": "LabelModel",
            "_view_count": null,
            "_view_module": "@jupyter-widgets/controls",
            "_view_module_version": "1.5.0",
            "_view_name": "LabelView",
            "description": "",
            "description_tooltip": null,
            "layout": "IPY_MODEL_01f580c37f9a4fc1a971d322e7f46aae",
            "placeholder": "​",
            "style": "IPY_MODEL_4eb3f40d61c64d50ba640f96dfeb5e55",
            "value": "Your token has been saved in your configured git credential helpers (store)."
          }
        },
        "8da78a58427d4a0dafcd7eee7beb7050": {
          "model_module": "@jupyter-widgets/controls",
          "model_name": "LabelModel",
          "model_module_version": "1.5.0",
          "state": {
            "_dom_classes": [],
            "_model_module": "@jupyter-widgets/controls",
            "_model_module_version": "1.5.0",
            "_model_name": "LabelModel",
            "_view_count": null,
            "_view_module": "@jupyter-widgets/controls",
            "_view_module_version": "1.5.0",
            "_view_name": "LabelView",
            "description": "",
            "description_tooltip": null,
            "layout": "IPY_MODEL_cad6111288644960a49fe35b415db07a",
            "placeholder": "​",
            "style": "IPY_MODEL_05efe593a7a44d7abeb2fa80990513da",
            "value": "Your token has been saved to /root/.cache/huggingface/token"
          }
        },
        "1150178e41274d23969e1e841fee72f5": {
          "model_module": "@jupyter-widgets/controls",
          "model_name": "LabelModel",
          "model_module_version": "1.5.0",
          "state": {
            "_dom_classes": [],
            "_model_module": "@jupyter-widgets/controls",
            "_model_module_version": "1.5.0",
            "_model_name": "LabelModel",
            "_view_count": null,
            "_view_module": "@jupyter-widgets/controls",
            "_view_module_version": "1.5.0",
            "_view_name": "LabelView",
            "description": "",
            "description_tooltip": null,
            "layout": "IPY_MODEL_3a10382c4eae452e85b2a808009f99a5",
            "placeholder": "​",
            "style": "IPY_MODEL_be43f0376c574dea8424123189d2a9b1",
            "value": "Login successful"
          }
        },
        "ae9834e6e5c34d94b4e0e27876728d81": {
          "model_module": "@jupyter-widgets/base",
          "model_name": "LayoutModel",
          "model_module_version": "1.2.0",
          "state": {
            "_model_module": "@jupyter-widgets/base",
            "_model_module_version": "1.2.0",
            "_model_name": "LayoutModel",
            "_view_count": null,
            "_view_module": "@jupyter-widgets/base",
            "_view_module_version": "1.2.0",
            "_view_name": "LayoutView",
            "align_content": null,
            "align_items": null,
            "align_self": null,
            "border": null,
            "bottom": null,
            "display": null,
            "flex": null,
            "flex_flow": null,
            "grid_area": null,
            "grid_auto_columns": null,
            "grid_auto_flow": null,
            "grid_auto_rows": null,
            "grid_column": null,
            "grid_gap": null,
            "grid_row": null,
            "grid_template_areas": null,
            "grid_template_columns": null,
            "grid_template_rows": null,
            "height": null,
            "justify_content": null,
            "justify_items": null,
            "left": null,
            "margin": null,
            "max_height": null,
            "max_width": null,
            "min_height": null,
            "min_width": null,
            "object_fit": null,
            "object_position": null,
            "order": null,
            "overflow": null,
            "overflow_x": null,
            "overflow_y": null,
            "padding": null,
            "right": null,
            "top": null,
            "visibility": null,
            "width": null
          }
        },
        "5a3cee53df5248efbfa6e6ac55693804": {
          "model_module": "@jupyter-widgets/controls",
          "model_name": "DescriptionStyleModel",
          "model_module_version": "1.5.0",
          "state": {
            "_model_module": "@jupyter-widgets/controls",
            "_model_module_version": "1.5.0",
            "_model_name": "DescriptionStyleModel",
            "_view_count": null,
            "_view_module": "@jupyter-widgets/base",
            "_view_module_version": "1.2.0",
            "_view_name": "StyleView",
            "description_width": ""
          }
        },
        "01f580c37f9a4fc1a971d322e7f46aae": {
          "model_module": "@jupyter-widgets/base",
          "model_name": "LayoutModel",
          "model_module_version": "1.2.0",
          "state": {
            "_model_module": "@jupyter-widgets/base",
            "_model_module_version": "1.2.0",
            "_model_name": "LayoutModel",
            "_view_count": null,
            "_view_module": "@jupyter-widgets/base",
            "_view_module_version": "1.2.0",
            "_view_name": "LayoutView",
            "align_content": null,
            "align_items": null,
            "align_self": null,
            "border": null,
            "bottom": null,
            "display": null,
            "flex": null,
            "flex_flow": null,
            "grid_area": null,
            "grid_auto_columns": null,
            "grid_auto_flow": null,
            "grid_auto_rows": null,
            "grid_column": null,
            "grid_gap": null,
            "grid_row": null,
            "grid_template_areas": null,
            "grid_template_columns": null,
            "grid_template_rows": null,
            "height": null,
            "justify_content": null,
            "justify_items": null,
            "left": null,
            "margin": null,
            "max_height": null,
            "max_width": null,
            "min_height": null,
            "min_width": null,
            "object_fit": null,
            "object_position": null,
            "order": null,
            "overflow": null,
            "overflow_x": null,
            "overflow_y": null,
            "padding": null,
            "right": null,
            "top": null,
            "visibility": null,
            "width": null
          }
        },
        "4eb3f40d61c64d50ba640f96dfeb5e55": {
          "model_module": "@jupyter-widgets/controls",
          "model_name": "DescriptionStyleModel",
          "model_module_version": "1.5.0",
          "state": {
            "_model_module": "@jupyter-widgets/controls",
            "_model_module_version": "1.5.0",
            "_model_name": "DescriptionStyleModel",
            "_view_count": null,
            "_view_module": "@jupyter-widgets/base",
            "_view_module_version": "1.2.0",
            "_view_name": "StyleView",
            "description_width": ""
          }
        },
        "cad6111288644960a49fe35b415db07a": {
          "model_module": "@jupyter-widgets/base",
          "model_name": "LayoutModel",
          "model_module_version": "1.2.0",
          "state": {
            "_model_module": "@jupyter-widgets/base",
            "_model_module_version": "1.2.0",
            "_model_name": "LayoutModel",
            "_view_count": null,
            "_view_module": "@jupyter-widgets/base",
            "_view_module_version": "1.2.0",
            "_view_name": "LayoutView",
            "align_content": null,
            "align_items": null,
            "align_self": null,
            "border": null,
            "bottom": null,
            "display": null,
            "flex": null,
            "flex_flow": null,
            "grid_area": null,
            "grid_auto_columns": null,
            "grid_auto_flow": null,
            "grid_auto_rows": null,
            "grid_column": null,
            "grid_gap": null,
            "grid_row": null,
            "grid_template_areas": null,
            "grid_template_columns": null,
            "grid_template_rows": null,
            "height": null,
            "justify_content": null,
            "justify_items": null,
            "left": null,
            "margin": null,
            "max_height": null,
            "max_width": null,
            "min_height": null,
            "min_width": null,
            "object_fit": null,
            "object_position": null,
            "order": null,
            "overflow": null,
            "overflow_x": null,
            "overflow_y": null,
            "padding": null,
            "right": null,
            "top": null,
            "visibility": null,
            "width": null
          }
        },
        "05efe593a7a44d7abeb2fa80990513da": {
          "model_module": "@jupyter-widgets/controls",
          "model_name": "DescriptionStyleModel",
          "model_module_version": "1.5.0",
          "state": {
            "_model_module": "@jupyter-widgets/controls",
            "_model_module_version": "1.5.0",
            "_model_name": "DescriptionStyleModel",
            "_view_count": null,
            "_view_module": "@jupyter-widgets/base",
            "_view_module_version": "1.2.0",
            "_view_name": "StyleView",
            "description_width": ""
          }
        },
        "3a10382c4eae452e85b2a808009f99a5": {
          "model_module": "@jupyter-widgets/base",
          "model_name": "LayoutModel",
          "model_module_version": "1.2.0",
          "state": {
            "_model_module": "@jupyter-widgets/base",
            "_model_module_version": "1.2.0",
            "_model_name": "LayoutModel",
            "_view_count": null,
            "_view_module": "@jupyter-widgets/base",
            "_view_module_version": "1.2.0",
            "_view_name": "LayoutView",
            "align_content": null,
            "align_items": null,
            "align_self": null,
            "border": null,
            "bottom": null,
            "display": null,
            "flex": null,
            "flex_flow": null,
            "grid_area": null,
            "grid_auto_columns": null,
            "grid_auto_flow": null,
            "grid_auto_rows": null,
            "grid_column": null,
            "grid_gap": null,
            "grid_row": null,
            "grid_template_areas": null,
            "grid_template_columns": null,
            "grid_template_rows": null,
            "height": null,
            "justify_content": null,
            "justify_items": null,
            "left": null,
            "margin": null,
            "max_height": null,
            "max_width": null,
            "min_height": null,
            "min_width": null,
            "object_fit": null,
            "object_position": null,
            "order": null,
            "overflow": null,
            "overflow_x": null,
            "overflow_y": null,
            "padding": null,
            "right": null,
            "top": null,
            "visibility": null,
            "width": null
          }
        },
        "be43f0376c574dea8424123189d2a9b1": {
          "model_module": "@jupyter-widgets/controls",
          "model_name": "DescriptionStyleModel",
          "model_module_version": "1.5.0",
          "state": {
            "_model_module": "@jupyter-widgets/controls",
            "_model_module_version": "1.5.0",
            "_model_name": "DescriptionStyleModel",
            "_view_count": null,
            "_view_module": "@jupyter-widgets/base",
            "_view_module_version": "1.2.0",
            "_view_name": "StyleView",
            "description_width": ""
          }
        },
        "b6fdd4691fb04e5cac47dddbd6bb2ae6": {
          "model_module": "@jupyter-widgets/controls",
          "model_name": "HBoxModel",
          "model_module_version": "1.5.0",
          "state": {
            "_dom_classes": [],
            "_model_module": "@jupyter-widgets/controls",
            "_model_module_version": "1.5.0",
            "_model_name": "HBoxModel",
            "_view_count": null,
            "_view_module": "@jupyter-widgets/controls",
            "_view_module_version": "1.5.0",
            "_view_name": "HBoxView",
            "box_style": "",
            "children": [
              "IPY_MODEL_2abc8cd0ba9542f5ad19af03ed5078e0",
              "IPY_MODEL_1f74ec5c4ad54e95913add714b4f970b",
              "IPY_MODEL_a028dbb3bc3a436d89c80d3672b1497d"
            ],
            "layout": "IPY_MODEL_17c9d4df34f7452c87fee5dcb69fb6cb"
          }
        },
        "2abc8cd0ba9542f5ad19af03ed5078e0": {
          "model_module": "@jupyter-widgets/controls",
          "model_name": "HTMLModel",
          "model_module_version": "1.5.0",
          "state": {
            "_dom_classes": [],
            "_model_module": "@jupyter-widgets/controls",
            "_model_module_version": "1.5.0",
            "_model_name": "HTMLModel",
            "_view_count": null,
            "_view_module": "@jupyter-widgets/controls",
            "_view_module_version": "1.5.0",
            "_view_name": "HTMLView",
            "description": "",
            "description_tooltip": null,
            "layout": "IPY_MODEL_bf272aa319534bd0b2812321c44168dc",
            "placeholder": "​",
            "style": "IPY_MODEL_76025b4c1b1947758754d451f5db4fb7",
            "value": "Upload file strep_model.pth: 100%"
          }
        },
        "1f74ec5c4ad54e95913add714b4f970b": {
          "model_module": "@jupyter-widgets/controls",
          "model_name": "FloatProgressModel",
          "model_module_version": "1.5.0",
          "state": {
            "_dom_classes": [],
            "_model_module": "@jupyter-widgets/controls",
            "_model_module_version": "1.5.0",
            "_model_name": "FloatProgressModel",
            "_view_count": null,
            "_view_module": "@jupyter-widgets/controls",
            "_view_module_version": "1.5.0",
            "_view_name": "ProgressView",
            "bar_style": "success",
            "description": "",
            "description_tooltip": null,
            "layout": "IPY_MODEL_0b5c58442acc47f49627054b011adfa3",
            "max": 110377332,
            "min": 0,
            "orientation": "horizontal",
            "style": "IPY_MODEL_6fad88a420994f00adedd922d6cc8b23",
            "value": 110377332
          }
        },
        "a028dbb3bc3a436d89c80d3672b1497d": {
          "model_module": "@jupyter-widgets/controls",
          "model_name": "HTMLModel",
          "model_module_version": "1.5.0",
          "state": {
            "_dom_classes": [],
            "_model_module": "@jupyter-widgets/controls",
            "_model_module_version": "1.5.0",
            "_model_name": "HTMLModel",
            "_view_count": null,
            "_view_module": "@jupyter-widgets/controls",
            "_view_module_version": "1.5.0",
            "_view_name": "HTMLView",
            "description": "",
            "description_tooltip": null,
            "layout": "IPY_MODEL_bfa86f37cebe48978cfd7cdbcf27e338",
            "placeholder": "​",
            "style": "IPY_MODEL_69fa8d5a4e43410bb4343816b1ef5505",
            "value": " 105M/105M [00:06&lt;00:00, 24.5MB/s]"
          }
        },
        "17c9d4df34f7452c87fee5dcb69fb6cb": {
          "model_module": "@jupyter-widgets/base",
          "model_name": "LayoutModel",
          "model_module_version": "1.2.0",
          "state": {
            "_model_module": "@jupyter-widgets/base",
            "_model_module_version": "1.2.0",
            "_model_name": "LayoutModel",
            "_view_count": null,
            "_view_module": "@jupyter-widgets/base",
            "_view_module_version": "1.2.0",
            "_view_name": "LayoutView",
            "align_content": null,
            "align_items": null,
            "align_self": null,
            "border": null,
            "bottom": null,
            "display": null,
            "flex": null,
            "flex_flow": null,
            "grid_area": null,
            "grid_auto_columns": null,
            "grid_auto_flow": null,
            "grid_auto_rows": null,
            "grid_column": null,
            "grid_gap": null,
            "grid_row": null,
            "grid_template_areas": null,
            "grid_template_columns": null,
            "grid_template_rows": null,
            "height": null,
            "justify_content": null,
            "justify_items": null,
            "left": null,
            "margin": null,
            "max_height": null,
            "max_width": null,
            "min_height": null,
            "min_width": null,
            "object_fit": null,
            "object_position": null,
            "order": null,
            "overflow": null,
            "overflow_x": null,
            "overflow_y": null,
            "padding": null,
            "right": null,
            "top": null,
            "visibility": null,
            "width": null
          }
        },
        "bf272aa319534bd0b2812321c44168dc": {
          "model_module": "@jupyter-widgets/base",
          "model_name": "LayoutModel",
          "model_module_version": "1.2.0",
          "state": {
            "_model_module": "@jupyter-widgets/base",
            "_model_module_version": "1.2.0",
            "_model_name": "LayoutModel",
            "_view_count": null,
            "_view_module": "@jupyter-widgets/base",
            "_view_module_version": "1.2.0",
            "_view_name": "LayoutView",
            "align_content": null,
            "align_items": null,
            "align_self": null,
            "border": null,
            "bottom": null,
            "display": null,
            "flex": null,
            "flex_flow": null,
            "grid_area": null,
            "grid_auto_columns": null,
            "grid_auto_flow": null,
            "grid_auto_rows": null,
            "grid_column": null,
            "grid_gap": null,
            "grid_row": null,
            "grid_template_areas": null,
            "grid_template_columns": null,
            "grid_template_rows": null,
            "height": null,
            "justify_content": null,
            "justify_items": null,
            "left": null,
            "margin": null,
            "max_height": null,
            "max_width": null,
            "min_height": null,
            "min_width": null,
            "object_fit": null,
            "object_position": null,
            "order": null,
            "overflow": null,
            "overflow_x": null,
            "overflow_y": null,
            "padding": null,
            "right": null,
            "top": null,
            "visibility": null,
            "width": null
          }
        },
        "76025b4c1b1947758754d451f5db4fb7": {
          "model_module": "@jupyter-widgets/controls",
          "model_name": "DescriptionStyleModel",
          "model_module_version": "1.5.0",
          "state": {
            "_model_module": "@jupyter-widgets/controls",
            "_model_module_version": "1.5.0",
            "_model_name": "DescriptionStyleModel",
            "_view_count": null,
            "_view_module": "@jupyter-widgets/base",
            "_view_module_version": "1.2.0",
            "_view_name": "StyleView",
            "description_width": ""
          }
        },
        "0b5c58442acc47f49627054b011adfa3": {
          "model_module": "@jupyter-widgets/base",
          "model_name": "LayoutModel",
          "model_module_version": "1.2.0",
          "state": {
            "_model_module": "@jupyter-widgets/base",
            "_model_module_version": "1.2.0",
            "_model_name": "LayoutModel",
            "_view_count": null,
            "_view_module": "@jupyter-widgets/base",
            "_view_module_version": "1.2.0",
            "_view_name": "LayoutView",
            "align_content": null,
            "align_items": null,
            "align_self": null,
            "border": null,
            "bottom": null,
            "display": null,
            "flex": null,
            "flex_flow": null,
            "grid_area": null,
            "grid_auto_columns": null,
            "grid_auto_flow": null,
            "grid_auto_rows": null,
            "grid_column": null,
            "grid_gap": null,
            "grid_row": null,
            "grid_template_areas": null,
            "grid_template_columns": null,
            "grid_template_rows": null,
            "height": null,
            "justify_content": null,
            "justify_items": null,
            "left": null,
            "margin": null,
            "max_height": null,
            "max_width": null,
            "min_height": null,
            "min_width": null,
            "object_fit": null,
            "object_position": null,
            "order": null,
            "overflow": null,
            "overflow_x": null,
            "overflow_y": null,
            "padding": null,
            "right": null,
            "top": null,
            "visibility": null,
            "width": null
          }
        },
        "6fad88a420994f00adedd922d6cc8b23": {
          "model_module": "@jupyter-widgets/controls",
          "model_name": "ProgressStyleModel",
          "model_module_version": "1.5.0",
          "state": {
            "_model_module": "@jupyter-widgets/controls",
            "_model_module_version": "1.5.0",
            "_model_name": "ProgressStyleModel",
            "_view_count": null,
            "_view_module": "@jupyter-widgets/base",
            "_view_module_version": "1.2.0",
            "_view_name": "StyleView",
            "bar_color": null,
            "description_width": ""
          }
        },
        "bfa86f37cebe48978cfd7cdbcf27e338": {
          "model_module": "@jupyter-widgets/base",
          "model_name": "LayoutModel",
          "model_module_version": "1.2.0",
          "state": {
            "_model_module": "@jupyter-widgets/base",
            "_model_module_version": "1.2.0",
            "_model_name": "LayoutModel",
            "_view_count": null,
            "_view_module": "@jupyter-widgets/base",
            "_view_module_version": "1.2.0",
            "_view_name": "LayoutView",
            "align_content": null,
            "align_items": null,
            "align_self": null,
            "border": null,
            "bottom": null,
            "display": null,
            "flex": null,
            "flex_flow": null,
            "grid_area": null,
            "grid_auto_columns": null,
            "grid_auto_flow": null,
            "grid_auto_rows": null,
            "grid_column": null,
            "grid_gap": null,
            "grid_row": null,
            "grid_template_areas": null,
            "grid_template_columns": null,
            "grid_template_rows": null,
            "height": null,
            "justify_content": null,
            "justify_items": null,
            "left": null,
            "margin": null,
            "max_height": null,
            "max_width": null,
            "min_height": null,
            "min_width": null,
            "object_fit": null,
            "object_position": null,
            "order": null,
            "overflow": null,
            "overflow_x": null,
            "overflow_y": null,
            "padding": null,
            "right": null,
            "top": null,
            "visibility": null,
            "width": null
          }
        },
        "69fa8d5a4e43410bb4343816b1ef5505": {
          "model_module": "@jupyter-widgets/controls",
          "model_name": "DescriptionStyleModel",
          "model_module_version": "1.5.0",
          "state": {
            "_model_module": "@jupyter-widgets/controls",
            "_model_module_version": "1.5.0",
            "_model_name": "DescriptionStyleModel",
            "_view_count": null,
            "_view_module": "@jupyter-widgets/base",
            "_view_module_version": "1.2.0",
            "_view_name": "StyleView",
            "description_width": ""
          }
        }
      }
    },
    "accelerator": "GPU"
  },
  "nbformat": 4,
  "nbformat_minor": 0
}